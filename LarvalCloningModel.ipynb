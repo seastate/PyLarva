{
 "cells": [
  {
   "cell_type": "markdown",
   "id": "aa49fa7b-ca16-4d4e-9d08-2d3022b93cb6",
   "metadata": {},
   "source": [
    "An experimental interface for the cloning PDE model"
   ]
  },
  {
   "cell_type": "code",
   "execution_count": 1,
   "id": "7e9053ac-bdde-4927-9b71-dfac53f6e9bb",
   "metadata": {
    "tags": []
   },
   "outputs": [],
   "source": [
    "# Load modules and set graphics environment\n",
    "from math import *\n",
    "import numpy as np\n",
    "from matplotlib import pyplot as plt\n",
    "plt.ion();\n",
    "from ipywidgets import interact, interactive, fixed, interact_manual\n",
    "import ipywidgets as widgets\n",
    "from Cloning.clone_modelND import Params, ClonePDE"
   ]
  },
  {
   "cell_type": "code",
   "execution_count": 2,
   "id": "cc1183ea-80b2-4e0d-861e-b9b95d92e56c",
   "metadata": {
    "tags": []
   },
   "outputs": [
    {
     "data": {
      "application/vnd.jupyter.widget-view+json": {
       "model_id": "cd84c2e1a2684d78b375deeb2c0987ef",
       "version_major": 2,
       "version_minor": 0
      },
      "text/plain": [
       "HBox(children=(VBox(children=(Label(value='Egg size', layout=Layout(display='flex', height='30px', justify_con…"
      ]
     },
     "metadata": {},
     "output_type": "display_data"
    },
    {
     "data": {
      "application/vnd.jupyter.widget-view+json": {
       "model_id": "de58fe6a14a54829b0728bc850840e15",
       "version_major": 2,
       "version_minor": 0
      },
      "text/plain": [
       "Output()"
      ]
     },
     "metadata": {},
     "output_type": "display_data"
    }
   ],
   "source": [
    "# Instantiate a Params object and a GUI to modify parameters. \n",
    "params=Params(auto_plot=True)\n",
    "# Restrict to a single environment, to simplify the interface\n",
    "#save_all=False,s_egg=0.1,s_0=0.75,s_1=0.25,s_2=1.,\n",
    "#                 Smax=1.25,s_j=1.,N0=1.,n_env=1,\n",
    "#                 t_env_cycle=1.,env_cycle_ratios=np.array([1.]),g_pars=[{'g0':1.}],\n",
    "#                 m_pars=[{'m0':0.15}],alpha=-0.75,c_0 = 0.5,f_2 = 1.,C = None,\n",
    "#                 nruns=1,start_time=0.,end_time=10.,dt=0.05,max_step=0.005,ns=4*32,\n",
    "#                 abserr=1.e-12,relerr=1.e-10,auto_plot=False\n",
    "s_egg=widgets.FloatText(value=0.1,width=10,description = r\"$s_{egg}$\")\n",
    "s_0=widgets.FloatText(value=0.75,description = r\"$s_0$\")\n",
    "s_1=widgets.FloatText(value=0.25,description = r\"$s_1$\")\n",
    "s_2=widgets.FloatText(value=1.0,description = r\"$s_2$\")\n",
    "Smax=widgets.FloatText(value=1.25,description = r\"$s_{max}$\")\n",
    "g0=widgets.FloatText(value=1.,description = r\"$g_0$\")\n",
    "m0=widgets.FloatText(value=0.15,description = r\"$m_0$\")\n",
    "alpha=widgets.FloatText(value=-0.75,description = r\"$\\alpha$\")\n",
    "c_0=widgets.FloatText(value=0.5,description = r\"$c_0$\")\n",
    "f_2=widgets.FloatText(value=1.,description = r\"$f_2$\")\n",
    "\n",
    "h = '30px'\n",
    "L_s_egg = widgets.Label(value='Egg size',layout=widgets.Layout(display=\"flex\", \n",
    "                                        justify_content=\"flex-end\",width=\"97%\",height=h))\n",
    "L_s_0 = widgets.Label(value='Size at cloning',layout=widgets.Layout(display=\"flex\", \n",
    "                                        justify_content=\"flex-end\",width=\"95%\",height=h))\n",
    "L_s_1 = widgets.Label(value='Clone size',layout=widgets.Layout(display=\"flex\", \n",
    "                                        justify_content=\"flex-end\",width=\"95%\",height=h))\n",
    "L_s_2 = widgets.Label(value='Size at metamorphosis',layout=widgets.Layout(display=\"flex\", \n",
    "                                        justify_content=\"flex-end\",width=\"97%\",height=h))\n",
    "L_Smax = widgets.Label(value='Plot limit',layout=widgets.Layout(display=\"flex\", \n",
    "                                        justify_content=\"flex-end\",width=\"90%\",height=h))\n",
    "uiL1 = widgets.VBox([L_s_egg,L_s_0,L_s_1,L_s_2,L_Smax])\n",
    "\n",
    "L_g0 = widgets.Label(value='Growth rate',layout=widgets.Layout(display=\"flex\", \n",
    "                                        justify_content=\"flex-start\",width=\"97%\",height=h))\n",
    "L_m0 = widgets.Label(value='Mortality rate',layout=widgets.Layout(display=\"flex\", \n",
    "                                        justify_content=\"flex-start\",width=\"95%\",height=h))\n",
    "L_c_0 = widgets.Label(value='Cloning probability',layout=widgets.Layout(display=\"flex\", \n",
    "                                        justify_content=\"flex-start\",width=\"95%\",height=h))\n",
    "L_f_2 = widgets.Label(value='Metamorphosis probability',layout=widgets.Layout(display=\"flex\", \n",
    "                                        justify_content=\"flex-start\",width=\"97%\",height=h))\n",
    "uiL2 = widgets.VBox([L_g0,L_m0,L_c_0,L_f_2])\n",
    "\n",
    "\n",
    "LabelObj = widgets.Label(value='Object',layout=widgets.Layout(display=\"flex\", \n",
    "                                        justify_content=\"center\",width=\"100%\"))\n",
    "LabelObj1 = widgets.Label(value='Object')\n",
    "Space = widgets.Label(value=' ',\n",
    "                         layout=widgets.Layout(display=\"flex\", \n",
    "                                               justify_content=\"center\", \n",
    "                                               width=\"100%\"))\n",
    "LabelModel = widgets.Label(value='Model',\n",
    "                         layout=widgets.Layout(display=\"flex\", \n",
    "                                               justify_content=\"flex-end\", \n",
    "                                               width=\"150%\"))\n",
    "ui0 = widgets.VBox([LabelObj,LabelObj1,Space,LabelModel])\n",
    "ui1 = widgets.VBox([s_egg,s_0,s_1,s_2,Smax])\n",
    "ui2 = widgets.VBox([g0,m0,c_0,f_2])\n",
    "ui3 = widgets.HBox([uiL1,ui1,ui2,uiL2])\n",
    "\n",
    "def setParams(s_egg,s_0,s_1,s_2,Smax,g0,m0,alpha,c_0,f_2):\n",
    "    params=Params(auto_plot=True)\n",
    "    params.s_egg = s_egg\n",
    "    params.s_0 = s_0\n",
    "    params.s_1 = s_1\n",
    "    params.s_2 = s_2\n",
    "    params.Smax = Smax\n",
    "    params.g_pars = [{'g0':g0}]\n",
    "    params.m_pars = [{'m0':m0}]\n",
    "    params.alpha = alpha\n",
    "    params.c_0 = c_0\n",
    "    params.f_2 = f_2\n",
    "    result=ClonePDE(params)\n",
    "    \n",
    "out = widgets.interactive_output(setParams,{'s_egg':s_egg,'s_0':s_0,'s_1':s_1,'s_2':s_2,'Smax':Smax,\n",
    "                                             'g0':g0,'m0':m0,'alpha':alpha,'c_0':c_0,'f_2':f_2})\n",
    "display(ui3,out)\n"
   ]
  },
  {
   "cell_type": "code",
   "execution_count": null,
   "id": "ceea4287-82ea-4f4f-a6b2-d7303d8885f1",
   "metadata": {
    "tags": []
   },
   "outputs": [],
   "source": [
    "result"
   ]
  },
  {
   "cell_type": "code",
   "execution_count": null,
   "id": "931968fe-c58d-4be9-8782-abfe325ff4f3",
   "metadata": {},
   "outputs": [],
   "source": []
  }
 ],
 "metadata": {
  "kernelspec": {
   "display_name": "Python 3 (ipykernel)",
   "language": "python",
   "name": "python3"
  },
  "language_info": {
   "codemirror_mode": {
    "name": "ipython",
    "version": 3
   },
   "file_extension": ".py",
   "mimetype": "text/x-python",
   "name": "python",
   "nbconvert_exporter": "python",
   "pygments_lexer": "ipython3",
   "version": "3.10.10"
  }
 },
 "nbformat": 4,
 "nbformat_minor": 5
}
