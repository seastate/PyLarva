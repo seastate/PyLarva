{
 "cells": [
  {
   "cell_type": "markdown",
   "id": "69cb33ba-0a3c-455f-a952-b00411dbab23",
   "metadata": {
    "tags": []
   },
   "source": [
    "# Demographic implications of cloning in marine invertebrate larvae \n",
    "This is a graphical interface for using the `clone_modelND` (for Non-Dimensional) model of cloning in marine invertebrate larvae. The `clone_modelND` model calculates the size distribution of a cohort of marine invertebrate larvae over time. This cohort represents a group of larvae beginning development at the same time and at the same size. For example, the cohort could represent larvae from the eggs of a single mother, or larvae from the eggs of a local population of mothers that spawn synchronously at a given time and place.\n",
    "\n",
    "In \"normal\" development (without cloning), a cohort of larvae always decreases in population due to mortality, because there is no mechanism for adding new larvae to the cohort. In a cloning species, one larva can divide into two genetically identical \"daughter\" larvae. This means that, in cloning larvae, the number of larvae in a cohort can either increase or decrease at any given time during development.  \n",
    "\n",
    "Like most larval life history models in the literature, **size is assumed in the** `clone_modelND` **model to be a *proxy* for developmental state**. This means that the model does not represent developmental state directly. Instead, it assumes that developmental state is closely coupled to size. For example, a larva is assumed to be competent to settle when it reaches a specific size. This approach means that the model does not exactly describe many details of morphology and life history associated with any given species. However, the more general results of this modeling approach may approximately describe a great many different species.\n",
    "\n",
    "While cloning produces two larvae out of one, it does not provide any additional tissue or nutritional resources to those larvae. This means a larva that clones produces two daughter larvae that are smaller. The model assumes that the daughter larvae divide the resources from the original larva. Hence, **the sizes of two daughters produced by cloning add up to the size of the original larva.**\n",
    "\n",
    "For example, some marine invertebrate larvae simply bifurcate during development, dividing their tissue into two parts. Each of these parts can either redifferentiate into a complete, smaller larva, or resume growing to reform the lost body parts. Whether it redifferentiates or regrows lost parts, a clone has to grow back to a size at which it is capable of metamorphosis (or of cloning again). The model neglects this difference in developmental mode of clones: Consistent with using size as a proxy, the model treats all larvae of size $s$ the same. \n",
    "\n",
    "The model can simulate characteristics of two distinct modes of cloning, exemplified by cloning typically found in Echinoids and Ophiuroids:\n",
    "\n",
    "- In the **Echinoid mode** of cloning, larvae grow and develop to a threshold size smaller than the size at metamorphosis. At this threshold size, some fraction of individuals clone to form two smaller daughters. These clones resume growth, and either clone again when they reach the threshold size or proceed to metamorphosis. Clones resume growth, and either clone again when they reach the threshold size or proceed to metamorphosis.\n",
    "\n",
    "- In the **Ophiuroid mode** of cloning, a fraction of surviving larvae grow past the size at metamorphosis. These larger larvae then divide into two clones, one of which metamorphoses immediately. The other, smaller clone then resumes development, repeating growth and either metamorphosing directly or cloning again to form a metamorph and yet another small clone.\n",
    "\n",
    "The `clone_modelND` model is capable of modeling many scenarios, such as fluctuating environments or multiple potential cloning or metamorphosis sizes, that are not implemented through this Jupyter NoteBook interface. These can be accessed by running the model directly from Python."
   ]
  },
  {
   "cell_type": "markdown",
   "id": "e63ad913-c421-4b2a-ae1c-6eb762f4a796",
   "metadata": {},
   "source": [
    "## Model structure and parameters\n",
    "The `clone_modelND` model has two independent variables: larval size, $s$, and time, $t$. It has one dependent variable: $p(s,t)$, the population of larvae of size $s$ at time $t$. \n",
    "\n",
    "The model tracks how $p(s,t)$ evolves as a function of time, under the influence of four mechanisms:\n",
    "\n",
    "- **Larval growth and development**\n",
    "    - $g_0$ determines the basal growth rate.\n",
    " \n",
    "- **Larval mortality**\n",
    "    - $m_0$ determines the basal mortality rate.\n",
    "    - $\\alpha$ determines the *size-dependence* of mortality, e.g. due to predators that preferentially prey on early or late stage larvae ($\\alpha<0$ means mortality is higher for early stages; $\\alpha>0$ means mortality is higher for late stages; $\\alpha=0$ means mortality is the same for all stages).  \n",
    "    *Note:* These parameters interact so changing $\\alpha=0$ also affects the impact of $m_0$. \n",
    "     \n",
    "- **Sizes for developmental milestones**\n",
    "    - $s_{egg}$ determines egg size (starting size for a developing larva)\n",
    "    - $s_0$ determines the size at cloning\n",
    "    - $s_1$ determines the size of one clone (must have $s_1<s_0$). The other clone has size $s_0-s_1$.\n",
    "    - $s_2$ is the size at metamorphosis\n",
    "    - $s_{max}$ determines the upper limit of the population size structure plot. It has no effect on the simulation itself.\n",
    "     \n",
    "- **Probabilities for developmental milestones**\n",
    "    - $c_0$ is the probability a larva will clone when it reaches size $s_1$. $c_0=0$ means larvae never clone. $c_0 = 0.5$ means 50% of larvae clone, etc.\n",
    "    - $f_2$ is the probability of metamorphosis at size $s_2$. $f_2=1$ means larvae always metamorphose when they reach size at metamorphosis. $f_2 = 0.5$ means 50% of larvae metamorphose when they reach size at metamorphosis.\n",
    "\n",
    "The *initial condition* -- the size distribution at the beginning of a simulation -- is that all larvae are initially of size $s_0$. Because there are only a fixed amount of maternal resources to put into eggs, making larger eggs means there are initially fewer, larger larvae. Conversely, making smaller eggs means there are initially more, smaller larvae."
   ]
  },
  {
   "cell_type": "markdown",
   "id": "8fb35e0e-c604-4519-b7cd-9117d6d41a06",
   "metadata": {},
   "source": [
    "## Meaningful parameter choices\n",
    "The \"ND\" in the name of the `clone_modelND` model indicates that the model is **Non-Dimensional**.\n",
    "This means key quantities have been scaled by some parameters, to remove redundant axes of variation.\n",
    "- The population of larvae have been normalized by the total amount of maternal resources. If $N$ is the initial number of larvae, $ N \\times S_0 = 1$. \n",
    "- The sizes of larvae have been normalized by the size at metamorphosis. This means that you should keep $s_2=1$.\n",
    "- The timescale has been scaled so that $g_0 = 1$. This means, essentially, that if larvae take approximately a week to develop, we count time in weeks. If larvae take a month to develop, we count time in months, etc.\n",
    "\n",
    "The mortality parameters $m_0$ and $\\alpha$ reflect the size and time scales described above. For example, a well developed late stage larva has scaled size approaching $s=1$, while a very early stage larva is close to $s=0$. Also, the mortality rate is relative to the time scale of growth. That is, if growth take approximately a week to develop, the mortality rate is per week, etc. "
   ]
  },
  {
   "cell_type": "markdown",
   "id": "0182e9e4-3ca1-4fb1-894a-d7c6d6f25f01",
   "metadata": {},
   "source": [
    "## Modes of cloning\n",
    "- To simulate the **Echinoid mode** of cloning, set:\n",
    "\n",
    "    $f_2=1$\n",
    "    \n",
    "    $s_1<s_2$\n",
    "    \n",
    "    $0 \\le c_0 < 1$\n",
    "\n",
    "- To simulate the **Ophiuroid mode** of cloning:\n",
    "\n",
    "    $f_2<1$\n",
    "    \n",
    "    $s_1>s_2$\n",
    "    \n",
    "    $c_0 = 1$\n"
   ]
  },
  {
   "cell_type": "markdown",
   "id": "ad8712dc-9d21-4e7f-ac17-0cce85df5fc1",
   "metadata": {},
   "source": [
    "## Understanding model output\n",
    "The output of this graphical interface for the `clone_modelND` model comprises three plots.\n",
    "\n",
    "- The plot at the left is a **heat map of size distribution of larvae, $p(s,t)$, over larval size ($s$) and time ($t$)**. A vertical line represents the size distribution at one point in simulated time. A horizontal line represents the abundance of larvae of a given size across time.\n",
    "\n",
    "- The plot at the upper right shows the cumulative number of metamorphs, $F(t)$, across time. The cumulative number of metamorphs at the end of the simulation is given just above the end of this line.\n",
    "\n",
    "- The plot at the lower right shows the total number of developing larvae of all sizes, $P(t)$, across time. The total number of larvae still developing at the end of the simulation is given just above the end of this line.\n"
   ]
  },
  {
   "cell_type": "code",
   "execution_count": 4,
   "id": "7e9053ac-bdde-4927-9b71-dfac53f6e9bb",
   "metadata": {
    "jupyter": {
     "source_hidden": true
    },
    "tags": []
   },
   "outputs": [],
   "source": [
    "# Load modules and set graphics environment\n",
    "from math import *\n",
    "import numpy as np\n",
    "from matplotlib import pyplot as plt\n",
    "plt.ion();\n",
    "from ipywidgets import interact, interactive, fixed, interact_manual\n",
    "import ipywidgets as widgets\n",
    "from Cloning.clone_modelND import Params, ClonePDE"
   ]
  },
  {
   "cell_type": "code",
   "execution_count": 6,
   "id": "cc1183ea-80b2-4e0d-861e-b9b95d92e56c",
   "metadata": {
    "jupyter": {
     "source_hidden": true
    },
    "tags": []
   },
   "outputs": [
    {
     "data": {
      "application/vnd.jupyter.widget-view+json": {
       "model_id": "d398a48b36ba4c9ca40e0116ccd73d08",
       "version_major": 2,
       "version_minor": 0
      },
      "text/plain": [
       "HBox(children=(VBox(children=(Label(value='Egg size', layout=Layout(display='flex', height='30px', justify_con…"
      ]
     },
     "metadata": {},
     "output_type": "display_data"
    },
    {
     "data": {
      "application/vnd.jupyter.widget-view+json": {
       "model_id": "712750bbad474d86a7359dfc8d1b7749",
       "version_major": 2,
       "version_minor": 0
      },
      "text/plain": [
       "Output()"
      ]
     },
     "metadata": {},
     "output_type": "display_data"
    }
   ],
   "source": [
    "# Instantiate a Params object and a GUI to modify parameters. \n",
    "params=Params(auto_plot=True)\n",
    "# Restrict to a single environment, to simplify the interface\n",
    "#save_all=False,s_egg=0.1,s_0=0.75,s_1=0.25,s_2=1.,\n",
    "#                 Smax=1.25,s_j=1.,N0=1.,n_env=1,\n",
    "#                 t_env_cycle=1.,env_cycle_ratios=np.array([1.]),g_pars=[{'g0':1.}],\n",
    "#                 m_pars=[{'m0':0.15}],alpha=-0.75,c_0 = 0.5,f_2 = 1.,C = None,\n",
    "#                 nruns=1,start_time=0.,end_time=10.,dt=0.05,max_step=0.005,ns=4*32,\n",
    "#                 abserr=1.e-12,relerr=1.e-10,auto_plot=False\n",
    "s_egg=widgets.FloatText(value=0.1,width=10,description = r\"$s_{egg}$\")\n",
    "s_0=widgets.FloatText(value=0.75,description = r\"$s_0$\")\n",
    "s_1=widgets.FloatText(value=0.25,description = r\"$s_1$\")\n",
    "s_2=widgets.FloatText(value=1.0,description = r\"$s_2$\")\n",
    "Smax=widgets.FloatText(value=1.25,description = r\"$s_{max}$\")\n",
    "Tmax=widgets.FloatText(value=10.,description = r\"$T_{max}$\")\n",
    "g0=widgets.FloatText(value=1.,description = r\"$g_0$\")\n",
    "m0=widgets.FloatText(value=0.,description = r\"$m_0$\")\n",
    "alpha=widgets.FloatText(value=-0.75,description = r\"$\\alpha$\")\n",
    "c_0=widgets.FloatText(value=0.,description = r\"$c_0$\")\n",
    "f_2=widgets.FloatText(value=1.,description = r\"$f_2$\")\n",
    "\n",
    "h = '30px'\n",
    "L_s_egg = widgets.Label(value='Egg size',layout=widgets.Layout(display=\"flex\", \n",
    "                                        justify_content=\"flex-end\",width=\"97%\",height=h))\n",
    "L_s_0 = widgets.Label(value='Size at cloning',layout=widgets.Layout(display=\"flex\", \n",
    "                                        justify_content=\"flex-end\",width=\"95%\",height=h))\n",
    "L_s_1 = widgets.Label(value='Clone size',layout=widgets.Layout(display=\"flex\", \n",
    "                                        justify_content=\"flex-end\",width=\"95%\",height=h))\n",
    "L_s_2 = widgets.Label(value='Size at metamorphosis',layout=widgets.Layout(display=\"flex\", \n",
    "                                        justify_content=\"flex-end\",width=\"97%\",height=h))\n",
    "L_Smax = widgets.Label(value='Plot limit',layout=widgets.Layout(display=\"flex\", \n",
    "                                        justify_content=\"flex-end\",width=\"90%\",height=h))\n",
    "uiL1 = widgets.VBox([L_s_egg,L_s_0,L_s_1,L_s_2,L_Smax])\n",
    "\n",
    "L_g0 = widgets.Label(value='Growth rate',layout=widgets.Layout(display=\"flex\", \n",
    "                                        justify_content=\"flex-start\",width=\"97%\",height=h))\n",
    "L_m0 = widgets.Label(value='Mortality rate',layout=widgets.Layout(display=\"flex\", \n",
    "                                        justify_content=\"flex-start\",width=\"95%\",height=h))\n",
    "L_alpha = widgets.Label(value='Mort. selectivity',layout=widgets.Layout(display=\"flex\", \n",
    "                                        justify_content=\"flex-start\",width=\"95%\",height=h))\n",
    "L_c_0 = widgets.Label(value='Cloning probability',layout=widgets.Layout(display=\"flex\", \n",
    "                                        justify_content=\"flex-start\",width=\"95%\",height=h))\n",
    "L_f_2 = widgets.Label(value='Metamorphosis probability',layout=widgets.Layout(display=\"flex\", \n",
    "                                        justify_content=\"flex-start\",width=\"97%\",height=h))\n",
    "L_Tmax = widgets.Label(value='End time',layout=widgets.Layout(display=\"flex\", \n",
    "                                        justify_content=\"flex-start\",width=\"90%\",height=h))\n",
    "uiL2 = widgets.VBox([L_g0,L_m0,L_alpha,L_c_0,L_f_2,L_Tmax])\n",
    "\n",
    "\n",
    "LabelObj = widgets.Label(value='Object',layout=widgets.Layout(display=\"flex\", \n",
    "                                        justify_content=\"center\",width=\"100%\"))\n",
    "LabelObj1 = widgets.Label(value='Object')\n",
    "Space = widgets.Label(value=' ',\n",
    "                         layout=widgets.Layout(display=\"flex\", \n",
    "                                               justify_content=\"center\", \n",
    "                                               width=\"100%\"))\n",
    "LabelModel = widgets.Label(value='Model',\n",
    "                         layout=widgets.Layout(display=\"flex\", \n",
    "                                               justify_content=\"flex-end\", \n",
    "                                               width=\"150%\"))\n",
    "ui0 = widgets.VBox([LabelObj,LabelObj1,Space,LabelModel])\n",
    "ui1 = widgets.VBox([s_egg,s_0,s_1,s_2,Smax])\n",
    "ui2 = widgets.VBox([g0,m0,alpha,c_0,f_2,Tmax])\n",
    "ui3 = widgets.HBox([uiL1,ui1,ui2,uiL2])\n",
    "\n",
    "def setParams(s_egg,s_0,s_1,s_2,Smax,g0,m0,alpha,c_0,f_2,Tmax):\n",
    "    params=Params(auto_plot=True)\n",
    "    params.s_egg = s_egg\n",
    "    params.s_0 = s_0\n",
    "    params.s_1 = s_1\n",
    "    params.s_2 = s_2\n",
    "    params.Smax = Smax\n",
    "    params.g_pars = [{'g0':g0}]\n",
    "    params.m_pars = [{'m0':m0}]\n",
    "    params.alpha = alpha\n",
    "    params.c_0 = c_0\n",
    "    params.f_2 = f_2\n",
    "    params.end_time = Tmax\n",
    "    result=ClonePDE(params)\n",
    "    \n",
    "out = widgets.interactive_output(setParams,{'s_egg':s_egg,'s_0':s_0,'s_1':s_1,'s_2':s_2,'Smax':Smax,\n",
    "                                             'g0':g0,'m0':m0,'alpha':alpha,'c_0':c_0,'f_2':f_2,'Tmax':Tmax})\n",
    "display(ui3,out)"
   ]
  },
  {
   "cell_type": "code",
   "execution_count": null,
   "id": "05eca0ea-6af4-4a6c-8a9e-43697bed4b19",
   "metadata": {},
   "outputs": [],
   "source": []
  }
 ],
 "metadata": {
  "kernelspec": {
   "display_name": "Python 3 (ipykernel)",
   "language": "python",
   "name": "python3"
  },
  "language_info": {
   "codemirror_mode": {
    "name": "ipython",
    "version": 3
   },
   "file_extension": ".py",
   "mimetype": "text/x-python",
   "name": "python",
   "nbconvert_exporter": "python",
   "pygments_lexer": "ipython3",
   "version": "3.10.6"
  }
 },
 "nbformat": 4,
 "nbformat_minor": 5
}
