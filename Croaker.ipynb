{
 "cells": [
  {
   "cell_type": "markdown",
   "metadata": {
    "jupyter": {
     "outputs_hidden": false
    }
   },
   "source": [
    "<p style=\"text-align: center;\"><span style=\"font-size: x-large;\">Understanding life history dynamics in <span style=\"font-size: x-large;\">structured populations </span>with a stage-within-age matrix model.</span></p>\n",
    "<p>This computer lab is based on an analysis by Diamond et al. (2000)* of the population dynamics of a fish called the Atlantic croaker, <em>Micropogonias undulatus</em> ( for additonal information on this species see <a href=\"http://www.tpwd.state.tx.us/huntwild/wild/species/croaker/.\">http://www.tpwd.state.tx.us/huntwild/wild/species/croaker/</a> ). The croaker is experiencing significant mortality as by-catch from shrimp trawling. Also, its population is declining, or at least appeared to be when this paper was written (I haven't followed up with the most recent catch data, but there are published suggestions ocean warming is contributing to increases in croaker stocks). Diamond et al. sought to establish whether by-catch mortality is a significant factor in causing declining populations of Atlantic croakers.&nbsp;</p>\n",
    "<p>According to Diamond et al., Atlantic croakers have a natural life of approximately 7 years. Over their lives, croakers grow and (as in most fish) increase their <strong>fecundity</strong> (production of sperm and eggs) as they get bigger. Their <strong>natural mortality rate</strong> (probability of dying in a given year) is very high when they are <strong>larvae</strong> and <strong>juveniles</strong>, but once they become <strong>adults</strong> mortality is much lower and roughly constant between ages 2 and 7 years. As noted, the adults are in addition subject to human-induced mortality from targeted fishing and by-catch.</p>\n",
    "<p>Aside from changes in fecundity and mortality across year classes, the first year of a croaker's life is distinct because during this year it begins as an egg and develops through a sequence of stages into a juvenile and finally into an adult. During this interval, croakers grow and develop rapidly but also suffer very high mortality rates. Small changes in mortality rates during larval and juvenile stages can have big impacts on how many croakers survive to become long-lived, reproducing adults. Hence, variations in the demography of the first year can alter the fate of the entire population.</p>\n",
    "<p>Recall that in most of the plankton models we've seen (and nearly all biological oceanography models in general) populations of many species are collapsed into a single broad biomass category (e.g., phytoplankton, microzooplankton, etc.). Our main concern in previous discussions of these models has been <strong>taxonomic resolution</strong>; that is, whether a model which lumps many different species together into one functional unit can be accurate enough to have useful predictive power. In the case of the croaker, Diamond et al.'s detailed statistical analysis clearly led them to believe that even one functional unit for this species alone is insufficient.</p>\n",
    "<p><img style=\"display: block; margin-left: auto; margin-right: auto;\" src=\"http://www.tpwd.state.tx.us/huntwild/wild/images/fish/acroaker.jpg\" alt=\"Altalntic Croaker (Texas Parks &amp; Wildlife)\" width=\"300\" height=\"157\" /></p>\n",
    "<p style=\"text-align: center;\"><span><span>The Altantic Croaker (<a href=\"http://www.tpwd.state.tx.us/huntwild/wild/species/croaker/.\">http://www.tpwd.state.tx.us/huntwild/wild/species/croaker/</a>)<br /></span></span></p>\n",
    "<p><span id=\"cell_outer_0\"><span id=\"cell_outer_0\">*<strong>Citation</strong>: Sandra L Diamond; Lindsay G Cowell; Larry B Crowder (2000)</span> Population effects of shrimp trawl bycatch on Atlantic croaker. Canadian Journal of Fisheries and Aquatic Sciences; 57( 10):2010-21<br /><br /></span></p>\n",
    "\n",
    "<p><span style=\"font-size: medium;\"><strong>1. Diamond et al.'s model</strong></span></p>\n",
    "<p>To model the population of Atlantic croakers, Diamond et al. devised an <strong>age-structured model</strong> --&nbsp;a model in which subpopulations are classified according to age (expressed here as Year Classes). The crux of Diamond et al.'s model is this:</p>\n",
    "<p>Suppose we label the number of croakers in Year Class 1 as $p_1$, the number of croakers in Year Class 2 as $p_2$, etc. For all seven Year Classes, the population in Year $\\mathbf{i}$&nbsp;can then be described by the vector \n",
    "$$\n",
    "\\mathbf{P}(i) = \\begin{pmatrix}\n",
    "p_1 \\\\ p_2 \\\\ p_3 \\\\ \\vdots \\\\ p_7\n",
    "\\end{pmatrix}. \\label{eq:eqnVEC}\n",
    "$$\n",
    "</p>\n",
    "\n",
    "<p>To have a population model, we need formulas that project the population&nbsp;$\\mathbf{P}(i)$&nbsp;forward to Year $i+1$. Three things happen to the croaker population in the transition between Years $i$ and $i+1$:</p>\n",
    "<p style=\"margin-left: 30px;\">(<em>a</em>) <em>Individuals age by one year</em>. That is, individuals who are in Year Class $j$ in Year $i$ are, if they survive, moved to Year Class $j+1$ in Year $i+1$.</p>\n",
    "<p style=\"margin-left: 30px;\">(<em>b</em>) <em>Individuals die</em>. Let's assume that the probability of an adult dying in a given year is $\\mu_{adult}$. Another way to express this is as a survival probability, $S_{adult}$. Because every adult will either die or survive, $\\mu_{adult}$ and $S_{adult}$ add up to one, so that</p>\n",
    "<p style=\"text-align: center; margin-left: 30px;\">$S_{adult} = 1 - \\mu_{adult}$.</p>\n",
    "<p style=\"margin-left: 30px;\">Combining aging and mortality, we can now say that the croaker population in Year Class $j+1$ in Year $i+1$ is equal to the croaker population in Year Class $j$ in Year $i$ times the survival rate during that year:</p>\n",
    "<p style=\"text-align: center; margin-left: 30px;\">$p_{j+1}(i+1) = S_{adult} ~ p_j(i)$</p>\n",
    "<p style=\"margin-left: 30px;\">(<em>c</em>) <em>Individuals reproduce</em>. In assessing reproduction of fish such as croakers, it's usually assumed that the main limitation is the number of eggs. That is because sperm are usually available in much greater numbers, most of which never encounter an egg and hence play no part in reproduction. To assess the number of eggs, we must focus on the population of female croakers. In some fish species the ratio of males to females is nearly equal (like it is in humans) and we could assume half the adults are female. However, in other fish species the sex ratio is strongly biased towards one gender (because of their basic biology, selective harvesting, etc.). In this case, it's clearest to model males and females separately, and since the number of males is almost always sufficient to fertilize all the females, we don't even have to worry about the males.</p>\n",
    "<p style=\"margin-left: 30px;\">So, we make the assumption now that we are modeling only females, and adjust populations, fecundity etc. accordingly (for example, if half the eggs are of each gender, the effective fecundity in the female-only model is 50% of the total observed fecundity). Let's assume that a female croaker of age $i$ produces $F_i$ female eggs. Accounting for all Year Classes, the population of female eggs ($p_{eggs}$) produced in the $i+1$st year is then \n",
    "    $$p_{eggs}(i+1) = F_1 p_1(i) + F_2 p_2(i) + F_3 p_3(i) + F_4 p_4(i) + F_5 p_5(i) + F_6 p_6(i) + F_7 p_7(i)$$\n",
    "</p>\n",
    "\n",
    "\n",
    "<p><span style=\"font-size: medium;\"><strong>2. Larval development and survival</strong></span></p>\n",
    "<p>The modeling approach as developed so far seems a concise but effective way of assessing the consequences of Year Class age structure in the Atlantic croaker population. However, as noted, the first year of a croaker's life involves a sequence of developmental stages: Egg (EGG),&nbsp; Yolk-Sac larva (YSL), Ocean larva (OL), Estuary larva (EL), Early juvenile (EJ) and Late juvenile (LJ). Croakers at these stages differ in size, physiology, behavior and environment. Mortality rates are high in all these stages, and but the stages also differ very substantially in mortality rates and in duration (how long a larva spends in each stage).</p>\n",
    "<p>To improve their predictions of survival in the critical first year, Diamond et al. decided they needed a more detailed submodel within their age-structured model. Their solution is a <strong>stage-within-age model</strong>, in which details of larval life are used to calculate <strong>survival through the first year</strong>, $S_{Y1}$. The resulting survival probability is used as a parameter in the age-structured model for the remaining year classes.&nbsp;</p>\n",
    "<p>Considering each of the larval and juvenile stages explicitly, we can say that the probability of surviving the entire first year is the product of survival probabilities in each stage: \n",
    "    $$S_{Y1} = S_{EGG} ~ S_{YSL} ~ S_{OL} ~ S_{EL} ~ S_{EJ} ~ S_{LJ}.$$ \n",
    "We can be even more explicit in calculating survival probabilities, by noting that the probability of survival in each stage is an exponentially decreasing function of mortality rate and duration of that stage. For example,\n",
    "    $$S_{EGG} = e^{-\\mu_{EGG} T_{EGG}},$$\n",
    "where $\\mu_{EGG}$ is the mortality rate during the egg stage and $T_{EGG}$ is the time an egg requires to develop into the Yolk-Sac Larval stage. Similarly,\n",
    "    $$S_{YSL} = e^{-\\mu_{YSL} T_{YSL}},$$\n",
    "where $\\mu_{YSL}$ is the mortality rate during the egg stage and $T_{YSL}$ is the time a Yolk-Sac Larva requires to develop into the Ocean Larval stage, and so forth for all the larval stages.</p>\n",
    "\n",
    "<p><span style=\"font-size: medium;\"><strong>3. A speculative evolutionary scenario<br /></strong></span></p>\n",
    "<p>Diamond et al. carried out a detailed statistical analysis in which they estimated all the key parameters discussed so far. In addition to reproducing their modeling approach and results, we can add a new dimension to predictions of croaker population trajectories by speculating about evolutionary changes through which croaker life history might adjust to increases or decreases in mortality (in particular, addition of significant fishing mortality to populations that evolved without this type of mortality). In other fish species, a variety of life history changes have been observed in response to anthropogenic stresses. For example, a species in which large adults are heavily fished might evolve towards allocating more resources to reproduction and fewer to growth in small adults. \n",
    "    \n",
    "An implication of Diamond et al. is that conditions had changed relative to historical patterns at the time of their study, at least in fishing-induced mortality and possibly in many other ways. Thus, there is reason to speculate that croaker life history parameters might evolve away from current values, if those changes increase reproductive success.</p>\n",
    "\n",
    "<p>Here, we will consider changes in only one life history parameter: egg size. If we assume females have a specific amount of resources to invest in eggs, they face a trade-off between allocating those resources to more, smaller eggs or to fewer, larger eggs. There is a large literature on the evolution of egg size. Changes in egg size have consequences for sperm-egg encounter rates, for movement through the water column, for predation rates, for development times, and many other factors in larval life history. Here, we will focus on one possible effect of a hypothetical change in egg size, which is the development time in early larval stages.</p>\n",
    "\n",
    "<p>We will assume that a Yolk-Sac Larva must reach a critical size before it is able to transition into an Ocean Larva. To do so, it must feed in the plankton, and this takes time during which it has a high probability of dying. If a larva starts from a larger egg, it has less growing to do before it can transition. Hence, its duration in the Yolk-Sac Larval stage is shorter, and its probability of surviving commensurately higher.</p>\n",
    "\n",
    "<p>In this lab, we consider a scenario in which (over evolutionary time) females can adjust their egg size relative to the currently observed size by an Egg Investment Factor, $EIF$. If so, constraints on total maternal investment mean that the number of eggs must decrease by a factor of $\\frac{1}{EIF}$. Then, the population of female eggs in the $i+1$st year will be\n",
    "    $$p_{eggs}(i+1) = \\frac{1}{EIF} \\left(F_1 p_1(i) + F_2 p_2(i) + F_3 p_3(i) + F_4 p_4(i) + F_5 p_5(i) + F_6 p_6(i) + F_7 p_7(i) \\right)$$\n",
    "The other side of the egg-size tradeoff is the effect on larval duration, and hence on survival probability. We will assume that the effect of changed egg size is by changing the duration of the Ocean Larva stage, because this is the first stage at which the larva acquires resources by feeding. We define a Duration Factor, $DF$, by assuming that growth is exponential during the OL stage in Diamond et al.'s model (this is an assumption because they specify only the total duration of each larval stage, not the growth progression within it). Our assumption is unproven, but plausible -- many models assume growth rate is proportional to body size, because larger consumers often encounter more and larger resources. If we accept this assumption, the duration of the OL stage, $T_{OL}$, is changed by a factor\n",
    "    $$DF = max \\left(1-\\frac{log(EIF)}{\\alpha T_{ol}},0 \\right)$$\n",
    "Here, the \"max\" function enforces the fact that the OL stage cannot have a negative duration.\n",
    "    \n",
    "The question, then, is would changes from the observed condition (in which $EIF=1$) be evolutionarily advantageous or disadvantageous (i.e., would they lead to higher or lower reproductive fitness)?</p>\n",
    "\n",
    "<p><span style=\"font-size: medium;\"><strong>4. Modeling mechanics<br /></strong></span></p>\n",
    "<p>We have now recapitulated the key elements of Diamond et al.'s age-within-stage model. To execute and analyze their model, Diamond et al. borrowed tools for matrix mathematics from linear algebra. Specifically, the modeling terms itemized above can be written very concisely as a matrix multiplication,\n",
    "$$\\mathbf{P}(i+1) = \\mathbf{A} \\mathbf{P}(i).$$\n",
    "As above, $\\mathbf{P}(i)$ is the vector of population in Year Classes 1-7 in year $i$. The matrix $\\mathbf{A}$ contains the terms of the original age-structured model involved in advancing this population to year $i+1$:\n",
    "$$\n",
    "\\mathbf{A} = \\begin{pmatrix}\n",
    "\\frac{F_1}{EIF} & \\frac{F_2}{EIF} & \\frac{F_3}{EIF} & \\frac{F_4}{EIF} & \\frac{F_5}{EIF} & \\frac{F_6}{EIF} & \\frac{F_7}{EIF} \\\\\n",
    "S_{Y1} & 0 & 0 & 0 & 0 & 0 & 0 \\\\\n",
    "0 & S_{adult} & 0 & 0 & 0 & 0 & 0 \\\\\n",
    "0 & 0 & S_{adult} & 0 & 0 & 0 & 0 \\\\\n",
    "0 & 0 & 0 & S_{adult} & 0 & 0 & 0 \\\\\n",
    "0 & 0 & 0 & 0 & S_{adult} & 0 & 0 \\\\\n",
    "0 & 0 & 0 & 0 & 0 & S_{adult} & 0 \\\\\n",
    "\\end{pmatrix}\n",
    "$$\n",
    " \n",
    "This matrix is in a common form in population modeling, called a <strong>Leslie matrix</strong>, in which non-zero terms appear only in the top row and the subdiagonal. The interpretations of the non-zero terms are:\n",
    "    \n",
    "- In the top row, each entry is the <strong>age-specific fecundity</strong>, which is the contribution of a female croaker in a given year class to the number of female eggs in the following year. For example, $\\frac{F_2}{EIF}$ is the fecundity of a 2 year old female croaker, $\\frac{F_3}{EIF}$ is the fecundity of a 3 year old female croaker, etc.\n",
    "    \n",
    "- The subdiagonal terms, $S_{Y1}$ and $S_{adult}$, are the survival probabilities for each age class. Specifically, $S_{Y1}$ is the probability an egg will survive its first year to become an Age-2 fish. $S_{adult}$ is the probability an Age-2 fish will survive to become an Age-3 fish, that an Age-3 fish will survive to become an Age-4 fish, etc.\n",
    "    \n",
    "With substitution into $\\mathbf{A}$ of the larval life history parameters determining first-year survival, \n",
    "    $$S_{Y1} = e^{-\\left( \\mu_{EGG} T_{EGG} + \\mu_{YSL} T_{YSL} + \\mu_{OL} DF T_{OL} + \\mu_{EL} T_{EL} + \\mu_{EJ} T_{EJ} + \\mu_{LJ} T_{LJ}  \\right)},$$\n",
    "we obtain the stage-within-age model in matrix form, as posed and solved by Diamond et al..</p>"
   ]
  },
  {
   "cell_type": "code",
   "execution_count": 1,
   "metadata": {
    "tags": []
   },
   "outputs": [],
   "source": [
    "# Load modules and set graphics environment\n",
    "from math import *\n",
    "import numpy as np\n",
    "from matplotlib import pyplot as plt\n",
    "plt.ion();\n",
    "from ipywidgets import interact, interactive, fixed, interact_manual\n",
    "import ipywidgets as widgets"
   ]
  },
  {
   "cell_type": "code",
   "execution_count": 2,
   "metadata": {
    "tags": []
   },
   "outputs": [],
   "source": [
    "from MatrixModels.croaker import LesliePars, CroakerPopModel"
   ]
  },
  {
   "cell_type": "code",
   "execution_count": 3,
   "metadata": {
    "tags": []
   },
   "outputs": [
    {
     "data": {
      "application/vnd.jupyter.widget-view+json": {
       "model_id": "34c99eb26d9a4e9f81bd4eb1981db5c8",
       "version_major": 2,
       "version_minor": 0
      },
      "text/plain": [
       "HBox(children=(VBox(children=(FloatText(value=2.0, description='$T_{EGG}$'), FloatText(value=4.0, description=…"
      ]
     },
     "metadata": {},
     "output_type": "display_data"
    },
    {
     "data": {
      "application/vnd.jupyter.widget-view+json": {
       "model_id": "e74a5b74668043d4a93168afa731c021",
       "version_major": 2,
       "version_minor": 0
      },
      "text/plain": [
       "Output()"
      ]
     },
     "metadata": {},
     "output_type": "display_data"
    }
   ],
   "source": [
    "# Instantiate a GUI to modify parameters. \n",
    "#  Initial parameters from Diamond et al. (2000) for Atlantic croakers in the Gulf of Mexico:\n",
    "T_egg=widgets.FloatText(value=2.,description = r\"$T_{EGG}$\")\n",
    "T_ysl=widgets.FloatText(value=4.,description = r\"$T_{YSL}$\")\n",
    "T_ol=widgets.FloatText(value=45.,description = r\"$T_{OL}$\")\n",
    "T_el=widgets.FloatText(value=58.5,description = r\"$T_{EL}$\")\n",
    "T_ej=widgets.FloatText(value=75.,description = r\"$T_{EJ}$\")\n",
    "T_lj=widgets.FloatText(value=180.,description = r\"$T_{LJ}$\")\n",
    "EIF=widgets.FloatText(value=0.5,description = r\"$EIF$\")\n",
    "\n",
    "mu_egg=widgets.FloatText(value=0.4984,description = r\"$\\mu_{EGG}$\")\n",
    "mu_ysl=widgets.FloatText(value=0.1645,description = r\"$\\mu_{YSL}$\")\n",
    "mu_ol=widgets.FloatText(value=0.09,description = r\"$\\mu_{OL}$\")\n",
    "mu_el=widgets.FloatText(value=0.0591,description = r\"$\\mu_{EL}$\")\n",
    "mu_ej=widgets.FloatText(value=0.021,description = r\"$\\mu_{EJ}$\")\n",
    "mu_lj=widgets.FloatText(value=0.009,description = r\"$\\mu_{LJ}$\")\n",
    "mu_adult=widgets.FloatText(value=0.85,description = r\"$\\mu_{adult}$\")\n",
    "\n",
    "F1=widgets.FloatText(value=0.10,description = r\"$F_1$\")\n",
    "F2=widgets.FloatText(value=59581.,description = r\"$F_2$\")\n",
    "F3=widgets.FloatText(value=76456.,description = r\"$F_3$\")\n",
    "F4=widgets.FloatText(value=93690.,description = r\"$F_4$\")\n",
    "F5=widgets.FloatText(value=106614.,description = r\"$F_5$\")\n",
    "F6=widgets.FloatText(value=124565.,description = r\"$F_6$\")\n",
    "F7=widgets.FloatText(value=130310.,description = r\"$F_7$\")\n",
    "alpha=widgets.FloatText(value=1./2.,description = r\"$\\alpha$\")\n",
    "\n",
    "p1=widgets.FloatText(value=1.,description = r\"$p_1$\")\n",
    "p2=widgets.FloatText(value=1.e-12,description = r\"$p_2$\")\n",
    "p3=widgets.FloatText(value=1.e-12,description = r\"$p_3$\")\n",
    "p4=widgets.FloatText(value=1.e-12,description = r\"$p_4$\")\n",
    "p5=widgets.FloatText(value=1.e-12,description = r\"$p_5$\")\n",
    "p6=widgets.FloatText(value=1.e-12,description = r\"$p_6$\")\n",
    "p7=widgets.FloatText(value=1.e-12,description = r\"$p_7$\")\n",
    "N_years=widgets.IntText(value=7,description = r\"$N_{years}$\")\n",
    "\n",
    "ui1 = widgets.VBox([T_egg,T_ysl,T_ol,T_el,T_ej,T_lj,EIF])\n",
    "ui2 = widgets.VBox([mu_egg,mu_ysl,mu_ol,mu_el,mu_ej,mu_lj,mu_adult])\n",
    "ui3 = widgets.VBox([F1,F2,F3,F4,F5,F6,F7,alpha])\n",
    "ui4 = widgets.VBox([p1,p2,p3,p4,p5,p6,p7,N_years])\n",
    "uiC = widgets.HBox([ui1,ui2,ui3,ui4])\n",
    "    \n",
    "out = widgets.interactive_output(CroakerPopModel,{'T_egg':T_egg,'T_ysl':T_ysl,'T_ol':T_ol,'T_el':T_el,'T_ej':T_ej,'T_lj':T_lj,\n",
    "                 'mu_egg':mu_egg,'mu_ysl':mu_ysl,'mu_ol':mu_ol,'mu_el':mu_el,'mu_ej':mu_ej,'mu_lj':mu_lj,\n",
    "                 'mu_adult':mu_adult,\n",
    "                    'F1':F1,'F2':F2,'F3':F3,'F4':F4,'F5':F5,'F6':F6,'F7':F7,\n",
    "                    'p1':p1,'p2':p2,'p3':p3,'p4':p4,'p5':p5,'p6':p6,'p7':p7,\n",
    "                    'N_years':N_years,'alpha':alpha,'EIF':EIF})\n",
    "display(uiC,out)"
   ]
  },
  {
   "cell_type": "markdown",
   "metadata": {
    "jupyter": {
     "outputs_hidden": false
    }
   },
   "source": [
    "<p><span style=\"font-size: medium;\"><strong>5. Exploration of the stage-within-age model: Model Inputs<br /></strong></span></p>\n",
    "<p>The input boxes below enable you to experiment with population trajectories for for the Atlantic croaker according to Diamond et al.'s stage-within-age model. Three types of parameters appear below:</p>\n",
    "<p style=\"margin-left: 30px;\">(<em>a</em>) <strong>Simulation parameters</strong>: The input grid in the top row determines the initial population in each Year Class for a population simulation. The fourth input level specifies the number of years to be simulated.&nbsp;</p>\n",
    "<p style=\"margin-left: 30px;\">(<em>b</em>) <strong>Demographic parameters</strong>: The second, third, fifth and sixth input rows specify the fecundity, mortality and duration parameters. The default values are estimates determined by Diamond et al. to apply to the Atlantic croaker population in the Gulf of Mexico (they also estimated parameters for the South and Mid-Atlantic Bights; see the paper for these parameter values).</p>\n",
    "<p style=\"margin-left: 30px;\">(<em>c</em>) <strong>Evolutionary parameter</strong>: The bottom input box enables you to specify the Egg Investment Factor, <em>EIF</em>. The default value is 1, representing the observed egg size. <em>EIF</em>&lt;1 implies more, smaller eggs and <em>EIF</em>&gt;1 implies fewer, larger eggs.</p>\n",
    "<p>&nbsp;</p>\n",
    "<p><span style=\"font-size: medium;\"><strong>6. Exploration of <span style=\"font-size: medium;\"><strong>the stage-within-age model</strong></span>: Model Outputs</strong></span></p>\n",
    "<p>The model produces four types of output, in the form of plots (numerical data for these plots are also printed out, in case they are useful):</p>\n",
    "<p style=\"margin-left: 30px;\">(<em>a</em>) <strong>Age distribution</strong>: This plot shows the fraction of the croaker population in each year class. Note that the vertical axis is on a log10 scale. The initial age distribution (set by you in the top input grid) is plotted in green. The stable age distribution, which is the relative fraction of population in each Year Class if the simulation is allowed to run for infinite time, is plotted in blue. The actual final age structure at the end of the simulation is plotted in black.</p>\n",
    "<p style=\"margin-left: 30px;\">(<em>b</em>) <strong>Population time series</strong>: This plot shows total population of Atlantic croakers, as a function of years from the start of the simulation. The full age-within-stage model population trajectory is shown in green. An analytical approximation to this model, in which it is assumed that the population always matches the stable age distribution, is shown in blue.</p>\n",
    "<p style=\"margin-left: 30px;\">(<em>c</em>) <strong>Larval demography</strong>: This plot shows the cummulative probability of survival through the successive larval stages. As in Diamond et al.'s paper, time units for larval demography are days (not years, as for the time series plot). Note the vertical axis is on a log10 scale.&nbsp;</p>\n",
    "<p style=\"margin-left: 30px;\">(<em>d</em>) <strong>Elasticities</strong>: This plot shows the elasticities for each parameter in the simulation. Elasticities are a metric of sensitivity of long-term population increase or decrease to small changes in parameters. For example, a small positive elasticity implies that increase of the corresponding parameter will slightly raise the long-term population trajectory. A large negative elasticity implies an increase in the corresponding parameter will substantially decrease the long-term population trajectory.&nbsp;</p>"
   ]
  },
  {
   "cell_type": "markdown",
   "metadata": {
    "jupyter": {
     "outputs_hidden": false
    }
   },
   "source": [
    "<p><span style=\"font-size: medium;\"><strong>6. Exploration of <span style=\"font-size: medium;\"><strong>the stage-within-age model</strong></span>: Study Questions<br /></strong></span></p>\n",
    "<p>Your tasks are to play with Diamond et al.'s stage-within-age model for awhile to familiarize yourself with how changes to the simulation, demographic and evolutionary parameters relate to larval survivorship, Year Class structure, and long-term population trends; then, address the following questions:</p>\n",
    "<p>1) <strong>Population structure</strong>:</p>\n",
    "<p style=\"margin-left: 30px;\">The key parameters of the model are expressed in the Leslie matrix, <strong>B</strong>. Using results from linear algebra, is can be shown that populations with this form of matrix always approach a stable age distribution. That is, if you run them long enough, the population distribution will approach a steady state (blue). Note that this does not mean the total population is constant, only that the fraction of population in a given Year Class is constant. The steady state is a convenient benchmark for population analysis, because it is easy to calculate using mathematical tools from linear algebra, and it is a characteristic only of the Leslie matrix, not involving simulation-specific parameters like initial population structure and number of years simulated.</p>\n",
    "<p style=\"margin-left: 30px;\"><strong>In what ways is the stable age distribution informative or uninformative?</strong> Is the analytical steady state age structure a good approximation for the full model? For how many years do initial conditions have significant impacts on age structure? In the event of a catastrophe (e.g., an oil spill), how long do you expect age structure impacts to last? Consider more moderate but continual environmental variations (which are not considered explicitly in this model). What kinds of variations (e.g., annual, decadal, etc.) would you expect to change croaker age structure?</p>\n",
    "<p style=\"margin-left: 30px;\"><strong>What are the key Year Classes?</strong> Given the relative abundance of fish of different ages, which size classes would be most impacted by targeted fishing or by-catch? Factoring in the age-dependent fecundity parameters, which size classes contribute most to reproduction?</p>\n",
    "<p>2) <strong>Population time series</strong>:</p>\n",
    "<p style=\"margin-left: 30px;\">The stable age distribution corresponds to a total population that always changes geometrically in time (i.e., in a linear trajectory on a semi-log plot). The full model does not necessarily follow this type of trajectory.</p>\n",
    "<p style=\"margin-left: 30px;\"><strong>What do the time series for total population in the full model, and the time series for the stable age distribution (derived from eigenvalue analysis), say about long-term trends in the croaker population?</strong> Do these time series predict long-term increases or decreases? The two time series begin with the same total population; in what ways are the two time series similar or different? How do differences relate to your answers to 1)?&nbsp;</p>\n",
    "<p>3) <strong>Larval demography</strong>:</p>\n",
    "<p style=\"margin-left: 30px;\"><strong>What do probabilities of larval survival across stages suggest about vunerability during early development?</strong> On average, how many eggs must a female lay to produce one offspring that survives its first year? What stages account for the most significant mortality? Which larval characteristics (e.g., size, sensory capabilities, swimming abilities, habitat, etc.) do you hypothesize might be most responsible for differences? In what ways would a survival probabilities differ in a fish species that gives live birth to a few, more-developed larvae? If you were sampling the plankton to assess croaker reproduction, how would estimates of larval survival inform your sampling design?</p>\n",
    "<p>4) <strong>Elasticities</strong>:</p>\n",
    "<p style=\"margin-left: 30px;\"><strong>What do elasticities for key parameters suggest about the croaker population's sensitivity to demographic parameters?</strong> Some parameters are inter-related. For example, in feeding larval stages, behaviors that enhance feeding rates often incur added risk of predation. Hence, a change in foraging behavior that increases feeding might both&nbsp;shorten duration of a larval stage (T) and increase mortality rates (mu). What determines whether this is a beneficial or harmful change?</p>\n",
    "<p>5) <strong>Evolution of egg size</strong>:</p>\n",
    "<p style=\"margin-left: 30px;\">Keep in mind that the egg-size model implemented here is oversimplified in important ways. Nonetheless, it may suffice to suggest whether, under the fishing pressure and demographic regime modeled by Diamond et al., different egg sizes might evolve and, if so, whether eggs are likely to become bigger or smaller.&nbsp;</p>\n",
    "<p style=\"margin-left: 30px;\"><strong>What are the long-term consequences of changes in egg size?</strong> Consider what magnitude of change might be relatively \"easy\" -- that is, not require major reorganization of egg structure or larval development mechanisms (clearly a speculative threshold...).&nbsp; Within a spectrum of such changes, would you expect to see evolutionary changes in croaker egg size?</p>\n",
    "<p>6) <strong>Responses to climate change</strong>:</p>\n",
    "<p style=\"margin-left: 30px;\">Consider one of the many factors predicted to change in future oceans (temperature, pH, mixed layer depth, nutrient levels, alien invasions, pollution, human exploitation, etc.). Speculate how this factor might affect parameters like larval duration and mortality rates. Use insights from the model to predict the impacts (or lack of impacts) on future croaker population dynamics.&nbsp; </p>"
   ]
  }
 ],
 "metadata": {
  "kernelspec": {
   "display_name": "Python 3 (ipykernel)",
   "language": "python",
   "name": "python3"
  },
  "language_info": {
   "codemirror_mode": {
    "name": "ipython",
    "version": 3
   },
   "file_extension": ".py",
   "mimetype": "text/x-python",
   "name": "python",
   "nbconvert_exporter": "python",
   "pygments_lexer": "ipython3",
   "version": "3.10.10"
  }
 },
 "nbformat": 4,
 "nbformat_minor": 4
}
