{
 "cells": [
  {
   "cell_type": "markdown",
   "metadata": {
    "jupyter": {
     "outputs_hidden": false
    },
    "tags": []
   },
   "source": [
    "<p style=\"text-align: center;\"><span style=\"font-size: x-large;\">1. Movement of spherical particles in fluid: Analyses using the Reynolds number</span></p>\n",
    "<p>&nbsp;<span style=\"text-decoration: underline;\"><strong>1.1 Background</strong></span></p>\n",
    "<p>Many environmental problems concern how particles move in fluids, or how mass and other conserved quantities are transported in or out of particles that are moving in fluids. For example, the rate at which carbon dioxide is removed from the atmosphere into the ocean is affected by how fast carbon fixed by phytoplankton sinks into the deep ocean. The \"footprint\" of area contaminated by pollutant particles emitted by a sewage outfall depends on how fast these particles sink. The \"drift\" of corn pollen from genetically modified plants into neighboring fields of organic corn depends on the sinking rate of the pollen particles. You can think of many other examples.</p>\n",
    "<p>&nbsp; Like all physical objects, immersed particles obey Netwon's 2nd Law,</p>\n",
    "<p style=\"text-align: center;\"><em>sum of forces</em> = <em>mass</em>&nbsp;&times; <em>acceleration</em></p>\n",
    "<p>This Law gives us a tool to calculate the rate at which an object subjected to a force (e.g., gravity) will move in a particular type of fluid. If we know the particle's movement, Newton's Law gives us a tool with which to calculate the force that must be acting on the particle to cause that movement. This sage worksheet provides these tools in an accessible format. You will apply these tools in the Study Questions to a variety of environmental contexts, to draw conclusons about many diverse processes that involve particles moving in fluids in the environment.</p>\n",
    "<p>&nbsp;<span style=\"text-decoration: underline;\"><strong>1.2 Forces on particles in fluids</strong></span></p>\n",
    "<p>&nbsp;To apply Newton's Law, let's consider the forces acting on an immersed particle. For most environmental particles, three types of forces most strongly affect movement:</p>\n",
    "<p>1. <strong>Gravity</strong>: Every particle has mass, <em>M</em>. The gravitational force on a particle is <span id=\"cell_outer_0\"><em>F<sub>gravity</sub></em> = <em>g</em> &times; <em>M</em>, where <em>g</em> = 9.81 <em>m</em>/s<sup>2</sup> is the gravitational acceleration.&nbsp; <br /></span></p>\n",
    "<p>2. <strong>Pressure</strong>: As you know (from your ears) if you have dived to the bottom of a swimming pool, pressure increases with depth. That implies that the pressure acting on the bottom surface of a particle is stronger than the pressure acting on the top of that particle (because the bottom is deeper than the top). This pressure difference results in a net force that we call <strong>buoyancy</strong>. It turns out that this force is always equal to the gravitational force on the mass of fluid that the particle displaces. Therefore, if the particle is denser than the fluid, its mass is greater than the mass of the displaced fluid, and hence it has a net downward force (gravity exceeds buoyancy). If the particle is less dense than the fluid, buoyancy exceeds gravity.</p>\n",
    "<p>&nbsp;3. <strong>Viscosity</strong>: Viscosity is a measure of the resistance to <strong>shear</strong>&nbsp;&minus; the motion of two parallel plates sliding past one another. For example, fluids like honey, molasses and glycerine have much higher viscosity than fluids like water and air. This means that dragging a particle through honey at a given velocity requires much more force than dragging the same particle at the same velocity through water or air.</p>\n",
    "<p>&nbsp;These three forces all contribute to the left hand side of the equation for Newton's Law &minus; the sum of forces&nbsp;&minus; in Newton's Law as applied to an immersed particle.&nbsp;In addition, the equation has the term on the right hand side. This term represents the rate of change of <strong>momentum</strong>, also called inertia, that results from the summed forces. This is often referred to as the <strong>inertial force</strong>. It is not really a force, but it has units of force, and it is sometimes convenient to use this shorthand (while keeping in mind its actual interpretation). With that caveat, we can talk about a fourth force:</p>\n",
    "<p>4. <strong>Inertia</strong>: This reflect the fact that, to move in a fluid, a particle must move some of the surrounding fluid. That means that any acceleration of the particle also means acceleration of some fluid. Depending on the flow geometry, even a particle moving at constant speed might continuously accelerate some of the surrounding fluid. In both situations, the fluid acceleration would be reflected as an \"inertial force\" on the particle.</p>\n",
    "<p>&nbsp;<span style=\"text-decoration: underline;\"><strong>1.3 Scaling of fluid forces</strong></span></p>\n",
    "<p>As discussed in class and explained in the analysis handout, we can deduce estimates of approximately how forces associated with viscosity and inertia will vary with characteristics of the particle (size, speed) and the fluid (viscosity, density).</p>\n",
    "<p>&nbsp;Our deductions led us to expect that the viscous force will be approximately</p>\n",
    "<p style=\"text-align: center;\"><span id=\"cell_outer_0\"><em>F<sub>visc</sub></em> =&nbsp;&mu;&nbsp;<span id=\"cell_outer_0\">&times;</span> <em>L</em> &times; <em>U</em>,</span></p>\n",
    "<p>where <span id=\"cell_outer_0\">&mu; is the fluid viscosity, <em>L</em> is the particle's linear size (e.g., its diameter if it is a sphere), and <em>U</em> is the particle's velocity relative to the fluid. That is, the viscous force is roughly proportional to the visocity, size and speed.</span></p>\n",
    "<p><span><br /></span></p>\n",
    "<p><span id=\"cell_outer_0\">In contrast, our deductions led us to expect that the inertial forces will be approximately<br /></span></p>\n",
    "<p style=\"text-align: center;\"><span id=\"cell_outer_0\"><em>F<sub>inertial</sub></em> =&nbsp;&rho; <span id=\"cell_outer_0\">&times;</span> <em>L<span id=\"cell_outer_0\"><sup>2</sup></span></em> &times; <em>U<span id=\"cell_outer_0\"><sup>2</sup></span></em>,</span></p>\n",
    "<p>where&nbsp;<span id=\"cell_outer_0\"><span id=\"cell_outer_0\">&rho;</span> is the fluid density. That is, the iniertial force is roughly proportional to the density, and to the <span style=\"text-decoration: underline;\">square</span> of the size and speed.</span></p>\n",
    "<p><span><span style=\"text-decoration: underline;\"><strong>1.4 Relative magnitudes of forces, and dynamic similarity</strong></span><br /></span></p>\n",
    "<p>&nbsp;An implication of the results above is that the relative magnitides of viscous and inertial forces are usually different in two different fluids, for a given particle size and speed. Also, the relative magnitudes are usually different for two particles of different sizes and speeds in a given fluid. The relative magnitudes turn out to have a great deal of predictive value for fluid flows, so much so that the ratio of the estimates above have been given a specific name: the Reynolds number, abbreviated as <em>Re</em>.</p>\n",
    "<p>The Reynolds number is given by</p>\n",
    "<p style=\"text-align: center;\">Re = <span id=\"cell_outer_0\"><em>F<sub>inertial</sub></em></span>/<span id=\"cell_outer_0\"><em>F<sub>visc</sub></em></span> = <span id=\"cell_outer_0\">&rho;<em>L</em><em>U</em></span>/<span id=\"cell_outer_0\">&mu;</span> .&nbsp;&nbsp;&nbsp;&nbsp;&nbsp;&nbsp;&nbsp;&nbsp;&nbsp;&nbsp;&nbsp;&nbsp;&nbsp;&nbsp;&nbsp;&nbsp;&nbsp;&nbsp;&nbsp;&nbsp;&nbsp;&nbsp;&nbsp;&nbsp;&nbsp; (1)</p>\n",
    "<p>When the Reynolds number is large (<em>Re</em> &raquo; 1), it implies that the inertial forces are generally much larger than the viscous forces.&nbsp; As suggested by the formula, this tends to occur when the particle is large and/or fast (L and U are large) or when the fluid has high density and low viscosity (<span id=\"cell_outer_0\">&rho; is large and&nbsp;</span><span id=\"cell_outer_0\">&mu; is small). In the opposite situaitons, the Reynolds number is small (<em>Re</em>&nbsp;&laquo; 1), implying that the inertial forces are generally much smaller than the viscous forces.</span></p>\n",
    "<p><span>Two key ideas emerge from these deductions:</span></p>\n",
    "<p><span>1.Two geometrically similar immiersed particles with the same Reynolds numbers are dynamically similar. That is, they have the same relative magnitudes of inertial and viscous forces and hence are scale models of each other.<br /></span></p>\n",
    "<p><span id=\"cell_outer_0\">2. It is the <span style=\"text-decoration: underline;\">combination</span> of the variables that determines the Reynolds number. That is, a very small particle in a relatively low-viscosity fluid like water can have the same Reynolds number as a large particle in a high-viscosity fluid like honey.<br /></span></p>\n",
    "<p>That means the Reynolds number gives us an instruction set for making scale models of particles in flow: We can adjust size, speed viscosity and density in whatever ways are convenient, as long as we match the final ratio <em>Re</em>.</p>\n",
    "<p><span style=\"text-decoration: underline;\"><strong>&nbsp;1.5 Look-up tables for forces on moving particles</strong></span></p>\n",
    "<p>&nbsp;In addition to enabling us to make scale models, the Reynolds number dramatically shrinks the parameter space over which we need to make experimental observations or numerical computations to characterize particle movement in fluids. In the original situation, we had four parameters to vary: <span id=\"cell_outer_0\">&rho;,<em>L</em>,<em>U</em>, and </span><span id=\"cell_outer_0\">&mu;</span>. If we decide we need 20 values of each parameter in order to fully characterize the parameter space, we need to make 20<span id=\"cell_outer_0\"><em><span id=\"cell_outer_0\"><sup>4</sup></span></em></span> = 160000 observations.</p>\n",
    "<p>Once we realize that all geometrically similar particles with the same <em>Re</em> are scale models of each other (that is, they are dynamically similar), we get the same resolution by measuring only 20 different values of <em>Re</em>. With these observations, we can then easily make a Look-up Table, using the Reynolds number to identify the appropriate scale model results needed to infer particle forces. speeds, etc. Engineers and fluid mechanicists have done this for many different particle shapes. Here, we will focus on spherical particles, but most of our conclusioins apply to other shapes with the same rationale and relatively modest quantittive adjustments.</p>\n",
    "<p>&nbsp;As described in the class notes, the force <em>F</em> on an immersed particle is usually expressed in a ratio known as the Coefficient of Drag:</p>\n",
    "<p style=\"text-align: center;\"><span id=\"cell_outer_4\"><em>C<sub>d</sub></em></span> = <em>F</em>/(1/2<span id=\"cell_outer_0\"> &rho;<em>L<span id=\"cell_outer_0\"><sup>2</sup></span></em><em>U<span id=\"cell_outer_0\"><sup>2</sup></span></em></span> ) .&nbsp;&nbsp;&nbsp;&nbsp;&nbsp;&nbsp;&nbsp;&nbsp;&nbsp;&nbsp;&nbsp;&nbsp;&nbsp;&nbsp;&nbsp;&nbsp;&nbsp;&nbsp;&nbsp;&nbsp;&nbsp;&nbsp;&nbsp;&nbsp;&nbsp; (2)</p>\n",
    "<p>Note that the denominator in this expression is very similar in form and rationale to our estimate of the magnitude of the inertial force. The power of this approach is illustrated by the plot below, which shows with one curve the force on <span style=\"text-decoration: underline;\">any</span> size particle moving at <span style=\"text-decoration: underline;\">any</span> speed in fluid of <span style=\"text-decoration: underline;\">any</span> viscosity and density.</p>"
   ]
  },
  {
   "cell_type": "code",
   "execution_count": 1,
   "metadata": {
    "tags": []
   },
   "outputs": [],
   "source": [
    "# Import modules:\n",
    "#%matplotlib\n",
    "from math import *\n",
    "import numpy as np\n",
    "from scipy.interpolate import CubicSpline, interp1d\n",
    "from scipy.optimize import root, bisect\n",
    "import matplotlib.pyplot as plt\n",
    "plt.ion()\n",
    "from ipywidgets import interact, interactive, fixed, interact_manual\n",
    "import ipywidgets as widgets"
   ]
  },
  {
   "cell_type": "code",
   "execution_count": 4,
   "metadata": {
    "collapsed": false,
    "jupyter": {
     "outputs_hidden": false
    }
   },
   "outputs": [],
   "source": [
    "# Experimental data for Cd for a sphere:\n",
    "relist=[ .05875, .1585, .4786, 3.020, 7.015, 15.49, 57.54, 144.5, 264.9, 512.9, 1000., 1862., 3162., 4764., 8375., .1556*10**5, .2648*10**5, .3467*10**5, .5888*10**5, .1000*10**6, .1702*10**6, .2317*10**6, .2648*10**6, .2710*10**6, .2851*10**6, .3020*10**6, .3388*10**6, .3981*10**6, .5129*10**6, .1778*10**7, .2291*10**7, .5012*10**7]\n",
    "cdlist = [492.0, 169.8, 58.88, 10.86, 5.623, 3.388, 1.479, .9204, .7194, .5623, .4786, .4365, .4074, .3890, .3981, .4395, .4571, .4775, .4732, .4624,.4395, .4046, .3733, .3467, .2472, .1778, .1047, .09772, .1000, .1778, .1862, .1862]\n",
    "CdRe_logdata = [(log(relist[i],10),log(cdlist[i],10)) for i in range(len(relist))]\n",
    "Re_logdata = [log(relist[i],10) for i in range(len(relist))]\n",
    "Cd_logdata = [log(cdlist[i],10) for i in range(len(relist))]\n",
    "#CdL_interp = spline(CdRe_logdata)\n",
    "#CdL_interp = CubicSpline(Re_logdata,Cd_logdata)\n",
    "CdL_interp = interp1d(Re_logdata,Cd_logdata)\n",
    "ReL_plot = np.linspace(Re_logdata[0],Re_logdata[-1],num=128)\n",
    "CdL_plot = CdL_interp(ReL_plot)\n",
    "# Stokes and Oseen analytical solutions\n",
    "Cd_Stokes = lambda Re_: 24./Re_\n",
    "Cd_Oseen = lambda Re_: 24./Re_*(1.+3./16.*Re_)\n",
    "CdL_Stokes = lambda logRe_: np.log10(24./np.power(10,logRe_))\n",
    "CdL_Oseen = lambda logRe_: np.log10(24./np.power(10,logRe_)*(1.+3./16.*np.power(10,logRe_)))\n",
    "stokes_transition = 1.5\n",
    "CdRe = lambda logRe_: CdL_Oseen(logRe_) if logRe_ <= log(stokes_transition,10) else CdL_interp(logRe_)"
   ]
  },
  {
   "cell_type": "code",
   "execution_count": 5,
   "metadata": {
    "tags": []
   },
   "outputs": [
    {
     "data": {
      "text/plain": [
       "<matplotlib.legend.Legend at 0x7f9605391660>"
      ]
     },
     "execution_count": 5,
     "metadata": {},
     "output_type": "execute_result"
    },
    {
     "data": {
      "image/png": "[encoded data removed]",
      "text/plain": [
       "<Figure size 640x480 with 1 Axes>"
      ]
     },
     "metadata": {},
     "output_type": "display_data"
    }
   ],
   "source": [
    "#  Output a graph to show the various estimates\n",
    "fig, ax = plt.subplots()\n",
    "ax.plot(ReL_plot,CdL_plot,color='cyan',label='Experiment (interpolated)')\n",
    "ax.set_xlabel(r'Reynolds number, $\\log_{10}Re$')\n",
    "ax.set_ylabel(r'Drag Coefficient, $\\log_{10}Cd$')\n",
    "ReL_Stokes = np.linspace(-1.,1.,8)\n",
    "ax.plot(ReL_Stokes,CdL_Stokes(ReL_Stokes),color='blue',label='Stokes theory')\n",
    "ReL_Oseen = np.linspace(-1.,1.,8)#ax.plot(CdL_Oseen,-4,log(stokes_transition,10),color='black',legend_label='Oseen theory')\n",
    "ax.plot(ReL_Oseen,CdL_Oseen(ReL_Oseen),color='red',label='Oseen theory')\n",
    "ax.plot(Re_logdata,Cd_logdata,'o',color='purple',label='Experiment (data)')\n",
    "ax.legend()"
   ]
  },
  {
   "cell_type": "markdown",
   "metadata": {
    "jupyter": {
     "outputs_hidden": false
    }
   },
   "source": [
    "<p>In this plot, note that the scales are logarithmic base 10 for both axes. Note also that there are several types of data used to define the curve &minus;cyan line (and red dots) for experimental observations, blue and black lines for analytical model calculations. The red line interpolates between these data in a sensible way, providing a consistent function across many orders of magnitude of Reynolds number.&nbsp;</p>\n",
    "<p style=\"text-align: center;\"><span style=\"font-size: x-large;\">2. Matching Reynolds numbers for dynamical similarity<br /></span></p>\n",
    "<p><span style=\"text-decoration: underline;\"><strong>2.1 Reynolds number calculator<br /></strong></span></p>\n",
    "<p>This part of the worksheet enables you to calculate the parameters to make a dynamically similar scale model of a particle moving in a fluid.&nbsp; The input panel below has two columns. In the left column, you can enter the characteristics of the object of interest, and the fluid in which it is immersed. In the right column, you can enter the characteristics of the model particle and the fluid in which it is immersed. The worksheet uses Equation (1) above to calculate the Reynolds numbers of both objects for you. If they match, the model is dynamically similar to the object.</p>"
   ]
  },
  {
   "cell_type": "code",
   "execution_count": 6,
   "metadata": {
    "collapsed": false,
    "jupyter": {
     "outputs_hidden": false
    }
   },
   "outputs": [
    {
     "data": {
      "application/vnd.jupyter.widget-view+json": {
       "model_id": "a758a57f8c7a4d279d62811881bf4298",
       "version_major": 2,
       "version_minor": 0
      },
      "text/plain": [
       "HBox(children=(VBox(children=(Label(value='Object', layout=Layout(display='flex', justify_content='center', wi…"
      ]
     },
     "metadata": {},
     "output_type": "display_data"
    },
    {
     "data": {
      "application/vnd.jupyter.widget-view+json": {
       "model_id": "b4b67f4ea8154c599dc202fff81ab8e7",
       "version_major": 2,
       "version_minor": 0
      },
      "text/plain": [
       "Output()"
      ]
     },
     "metadata": {},
     "output_type": "display_data"
    },
    {
     "data": {
      "application/vnd.jupyter.widget-view+json": {
       "model_id": "cb92950083c14a42a17d6e9c932d3c4f",
       "version_major": 2,
       "version_minor": 0
      },
      "text/plain": [
       "Output()"
      ]
     },
     "metadata": {},
     "output_type": "display_data"
    }
   ],
   "source": [
    "LabelObj = widgets.Label(value='Object',\n",
    "                         layout=widgets.Layout(display=\"flex\", \n",
    "                                               justify_content=\"center\", \n",
    "                                               width=\"100%\"))\n",
    "LabelModel = widgets.Label(value='Model',\n",
    "                         layout=widgets.Layout(display=\"flex\", \n",
    "                                               justify_content=\"center\", \n",
    "                                               width=\"100%\"))\n",
    "\n",
    "mu1=widgets.FloatText(value=1.376e-3,width=20,description = \"$\\mu$ (N-s/m**2)\")\n",
    "rho1=widgets.FloatText(value=1028.,description = \"$\\\\rho$ (kg/m**3)\")\n",
    "U1=widgets.FloatText(value=5.e-6,description = \"$U$ (m/s)\")\n",
    "L1=widgets.FloatText(value=5.e-6,description = \"$L$ (m)\")\n",
    "\n",
    "mu2=widgets.FloatText(value=1.376e-3,description = \"$\\mu$ (N-s/m**2)\")\n",
    "rho2=widgets.FloatText(value=1028.,description = \"$\\\\rho$ (kg/m**3)\")\n",
    "U2=widgets.FloatText(value=5.e-6,description = \"$U$ (m/s)\")\n",
    "L2=widgets.FloatText(value=5.e-6,description = \"$L$ (m)\")\n",
    "\n",
    "ui1 = widgets.VBox([LabelObj,mu1,rho1,U1,L1])\n",
    "ui2 = widgets.VBox([LabelModel,mu2,rho2,U2,L2])\n",
    "ui3 = widgets.HBox([ui1, ui2])\n",
    "\n",
    "def REfunc1(rho1,U1,L1,mu1):\n",
    "    print('Object: Re = {:.4g}'.format(abs(rho1*U1*L1/mu1)))\n",
    "\n",
    "def REfunc2(rho2,U2,L2,mu2):\n",
    "    print('Model: Re = {:.4g}'.format(abs(rho2*U2*L2/mu2)))\n",
    "\n",
    "out1 = widgets.interactive_output(REfunc1,{'rho1':rho1,'U1':U1,'L1':L1,'mu1':mu1})\n",
    "out2 = widgets.interactive_output(REfunc2,{'rho2':rho2,'U2':U2,'L2':L2,'mu2':mu2})\n",
    "display(ui3,out1,out2)"
   ]
  },
  {
   "cell_type": "markdown",
   "metadata": {
    "jupyter": {
     "outputs_hidden": false
    }
   },
   "source": [
    "<p style=\"text-align: center;\"><span style=\"font-size: x-large;\">3. Calculating force on a spherical particle moving at known velocity, <em>U</em><br /></span></p>\n",
    "<p><span style=\"text-decoration: underline;\"><strong>3.1 Force calculator<br /></strong></span></p>\n",
    "<p>This part of the worksheet enables you to calculate the force required to propel a particle of given size through a fluid with known viscosity and density. The rationale is as follows:</p>\n",
    "<ol>\n",
    "<li>Use the particle diameter, $D$, and velocity, $U$, and the fluid density ($\\rho$) and viscosity (\\mu$), to calculate $Re$ via Equation (1).</li>\n",
    "<li>Use <em>Re</em> to calculate the Coefficient of Drag, <span id=\"cell_outer_0\"><span id=\"cell_outer_4\"><em>C<sub>d</sub></em></span></span>.</li>\n",
    "<li>Use <span id=\"cell_outer_0\"><span id=\"cell_outer_4\"><em>C<sub>d</sub></em></span></span>, the particle size and velocity, and the fluid density, to calculate the drag force <em>F</em> via Equation (2). To do this, we need to algebraically rearrange Equation (2) to solve for <em>F</em>.</li>\n",
    "</ol>\n",
    "<p>The input panel below has text boxes for the particle size and velocity and the fluid density and viscosity as inputs, and the force required to maintain the particle's velocity as output:</p>"
   ]
  },
  {
   "cell_type": "code",
   "execution_count": 7,
   "metadata": {
    "collapsed": false,
    "jupyter": {
     "outputs_hidden": false
    }
   },
   "outputs": [
    {
     "data": {
      "application/vnd.jupyter.widget-view+json": {
       "model_id": "fdce5b687062494a8ce422ec3ae9a85a",
       "version_major": 2,
       "version_minor": 0
      },
      "text/plain": [
       "HBox(children=(VBox(children=(FloatText(value=0.001376, description='$\\\\mu~~ (\\\\frac{N s}{m^2})$'), FloatText(…"
      ]
     },
     "metadata": {},
     "output_type": "display_data"
    },
    {
     "data": {
      "application/vnd.jupyter.widget-view+json": {
       "model_id": "aa945ccaf3494afb9385772caa2890ae",
       "version_major": 2,
       "version_minor": 0
      },
      "text/plain": [
       "Output()"
      ]
     },
     "metadata": {},
     "output_type": "display_data"
    }
   ],
   "source": [
    "mu3=widgets.FloatText(value=1.376e-3,width=20,description = r\"$\\mu~~ (\\frac{N s}{m^2})$\")\n",
    "rho3=widgets.FloatText(value=1028.,description = r\"$\\rho~~ (\\frac{kg}{m^3})$\")\n",
    "U3=widgets.FloatText(value=5.e-6,description = r\"$U~~ (\\frac{m}{s})$\")\n",
    "D3=widgets.FloatText(value=5.e-6,description = r\"$D~~ (m)$\")\n",
    "\n",
    "ui1a = widgets.VBox([mu3,rho3])\n",
    "ui2a = widgets.VBox([U3,D3])\n",
    "ui3a = widgets.HBox([ui1a, ui2a])\n",
    "\n",
    "def F3(rho3,U3,D3,mu3):\n",
    "    Re=abs(D3*U3*rho3/mu3)\n",
    "    logRe=log(Re,10)\n",
    "    logCd=CdRe(logRe)\n",
    "    Cd_=10**logCd\n",
    "    F_=np.sign(U3)*0.5*rho3*pi/4.*D3**2*U3**2*Cd_\n",
    "    print('Force required to move sphere at velocity U: F = {:.4g} N'.format(F_))\n",
    "     \n",
    "out3 = widgets.interactive_output(F3,{'rho3':rho3,'U3':U3,'D3':D3,'mu3':mu3})\n",
    "display(ui3a,out3)"
   ]
  },
  {
   "cell_type": "markdown",
   "metadata": {
    "jupyter": {
     "outputs_hidden": false
    }
   },
   "source": [
    "<p><span style=\"text-decoration: underline;\"><strong>3.2 Density calculator<br /></strong></span></p>\n",
    "<p>This calculator addresses the situation when we have observed a particle's sinking rate, and we would like to infer its density. This is closely related to the situation in 3.1; having calculated the force $F$, we then need to do an additional calculation to find the density of the sphere required to produce that force on the immersed particle. In this calculator, the inputs are the same as in 3.1, and the output is the density required to move the particle at the specified velocity.</p>"
   ]
  },
  {
   "cell_type": "code",
   "execution_count": 9,
   "metadata": {
    "collapsed": false,
    "jupyter": {
     "outputs_hidden": false
    }
   },
   "outputs": [
    {
     "data": {
      "application/vnd.jupyter.widget-view+json": {
       "model_id": "475b81c7cc304ead912eeec3cf8bf660",
       "version_major": 2,
       "version_minor": 0
      },
      "text/plain": [
       "HBox(children=(VBox(children=(FloatText(value=0.001376, description='$\\\\mu~~ (\\\\frac{N s}{m^2})$'), FloatText(…"
      ]
     },
     "metadata": {},
     "output_type": "display_data"
    },
    {
     "data": {
      "application/vnd.jupyter.widget-view+json": {
       "model_id": "9ebc81e9f0fa409a8ba760485c6b7ba9",
       "version_major": 2,
       "version_minor": 0
      },
      "text/plain": [
       "Output()"
      ]
     },
     "metadata": {},
     "output_type": "display_data"
    }
   ],
   "source": [
    "g=9.81\n",
    "\n",
    "mu4=widgets.FloatText(value=1.376e-3,width=20,description = r\"$\\mu~~ (\\frac{N s}{m^2})$\")\n",
    "rho_water=widgets.FloatText(value=1028.,description = r\"$\\rho_{water}~~ (\\frac{kg}{m^3})$\")\n",
    "U4=widgets.FloatText(value=5.e-6,description = r\"$U~~ (\\frac{m}{s})$\")\n",
    "D4=widgets.FloatText(value=5.e-6,description = r\"$D~~ (m)$\")\n",
    "\n",
    "ui1b = widgets.VBox([mu4,rho_water])\n",
    "ui2b = widgets.VBox([U4,D4])\n",
    "ui3b = widgets.HBox([ui1b, ui2b])\n",
    "\n",
    "def rho4(rho_water,U4,D4,mu4):\n",
    "    if U4==0: # We don't have to calculate anything...\n",
    "        rho_sphere=rho4\n",
    "        print('Particle density equals fluid density: rho_sphere = {:.4g}'.format(rho_sphere))\n",
    "    else:\n",
    "        # Geometry:\n",
    "        rr=D4/2.\n",
    "        vol=float(4./3.*pi*rr**3)\n",
    "        Re=abs(D4*U4*rho_water/mu4)\n",
    "        logRe=log(Re,10)\n",
    "        logCd=CdRe(logRe)\n",
    "        Cd_=10**logCd\n",
    "        F_=np.sign(U4)*0.5*rho_water*pi/4.*D4**2*U4**2*Cd_\n",
    "        # Density calculation\n",
    "        excess_mass=F_/g\n",
    "        rho_excess=excess_mass/vol\n",
    "        rho_sphere=rho_excess+rho_water     \n",
    "        print('Particle density: rho_sphere =  = {:.4g} kg/m^3'.format(rho_sphere))\n",
    "    \n",
    "out4 = widgets.interactive_output(rho4,{'rho_water':rho_water,'U4':U4,'D4':D4,'mu4':mu4})\n",
    "display(ui3b,out4)"
   ]
  },
  {
   "cell_type": "markdown",
   "metadata": {
    "jupyter": {
     "outputs_hidden": false
    }
   },
   "source": [
    "<div id=\"cell_text_3\" class=\"text_cell\">\n",
    "<p style=\"text-align: center;\"><span style=\"font-size: x-large;\">4. Calculating velocity of a spherical particle propelled by known force, <em>F</em><br /></span></p>\n",
    "<p><span style=\"text-decoration: underline;\"><strong>4.1 Velocity calculator #1<br /></strong></span></p>\n",
    "<p>As noted, the Re-<span id=\"cell_outer_0\"><span id=\"cell_outer_4\"><em>C<sub>d</sub></em></span></span> curve describes the movement of all spheres at all speeds in all (simple) fluids. This is sufficient to determine the velocity of a sphere if we know its size, the force exerted on it, and the fluid characteristics. There is however a slight complication: Both $Re$ and $C_d$ are functions of particle velocity, $U$, (as in Equations (1) and (2)). However, because we don't in general have a convenient formula for $C_d$, we can't write down an analytical formula to obtain the $U$ that satisfies both these equations simulataneously.&nbsp;</p>\n",
    "<p>To get past this hurdle, we'll use a time-honored mathematical technique: We'll guess.</p>\n",
    "<p>Guessing, or more precisely developing an intelligent sequence of trial-and-error iterations, is a great way to solve many computational problems. In fact, this type of iteration is essentially what a lot of computer algorithms for solving hard problems are doing. Below, I've made a calculator that does this iteration for you. Before trusting in the software, however, it's important that you gain some first-hand experience with this iterative process.</p>\n",
    "<p>This part of the worksheet enables you to efficiently perform a sequence of iterations to determine the velocity of a particle with known force. The rationale is as follows:</p>\n",
    "<ol>\n",
    "<li>Guess a velocity, $U_{est}$.</li>\n",
    "<li>Use the rationale in Section 3 to calculate the force, $F_{est}$, required to propel the particle at $U_{est}$.</li>\n",
    "<li>Compare&nbsp;$F_{est}$1 to the required force, and use the error to adjust the next guess of velocity up or down as needed.</li>\n",
    "<li>Repeat until the necessary accuracy has been achieved.</li>\n",
    "</ol>\n",
    "<p>With a little practice, you will be able to calculate velocity to within a percent or less error in a few iterations.</p>\n",
    "<p>The input panel below has text boxes for the particle size, the actual force on the particle, and the fluid density and viscosity&nbsp;&minus; and your guess at the velocity &minus; as inputs. Its output is the force required to move the particle at the velocity you guessed.</p>\n",
    "</div>"
   ]
  },
  {
   "cell_type": "code",
   "execution_count": 10,
   "metadata": {
    "collapsed": false,
    "jupyter": {
     "outputs_hidden": false
    }
   },
   "outputs": [
    {
     "data": {
      "application/vnd.jupyter.widget-view+json": {
       "model_id": "e5eea6b427584e2ca28745507d2df721",
       "version_major": 2,
       "version_minor": 0
      },
      "text/plain": [
       "HBox(children=(VBox(children=(FloatText(value=0.001376, description='$\\\\mu~~ (\\\\frac{N s}{m^2})$'), FloatText(…"
      ]
     },
     "metadata": {},
     "output_type": "display_data"
    },
    {
     "data": {
      "application/vnd.jupyter.widget-view+json": {
       "model_id": "6c2b8abd5d3c44299d713582f44df92a",
       "version_major": 2,
       "version_minor": 0
      },
      "text/plain": [
       "Output()"
      ]
     },
     "metadata": {},
     "output_type": "display_data"
    }
   ],
   "source": [
    "mu5=widgets.FloatText(value=1.376e-3,width=20,description = r\"$\\mu~~ (\\frac{N s}{m^2})$\")\n",
    "rho5=widgets.FloatText(value=1028.,description = r\"$\\rho~~ (\\frac{kg}{m^3})$\")\n",
    "U_guess=widgets.FloatText(value=0.001,description = r\"$U_{guess}~~ (\\frac{m}{s})$\")\n",
    "D5=widgets.FloatText(value=5.e-6,description = r\"$D~~ (m)$\")\n",
    "F5=widgets.FloatText(value=1.e-11,description = r\"$F~~ (N)$\")\n",
    "\n",
    "ui1c = widgets.VBox([mu5,F5,U_guess])\n",
    "ui2c = widgets.VBox([rho5,D5])\n",
    "ui3c = widgets.HBox([ui1c, ui2c])\n",
    "\n",
    "def force5(rho5,U_guess,D5,mu5,F5):\n",
    "    Re_guess=float(D5*abs(U_guess)*rho5/mu5)\n",
    "    logRe=log(Re_guess,10.)\n",
    "    logCd=CdRe(logRe)\n",
    "    Cd_guess=10.**logCd\n",
    "    F_guess=np.sign(U_guess)*0.5*rho5*pi/4.*D5**2*U_guess**2*Cd_guess\n",
    "    #print('Particle density: rho_sphere = {:.4g} kg/m^3'.format(rho_sphere))\n",
    "    print('Using guessed velocity, U_est = {:.4g}',float(U_guess))\n",
    "    print('Reynolds number: Re = {:.4g}'.format(Re_guess))\n",
    "    print('\\nForce required to move sphere at velocity U_est:')\n",
    "    print('F_est = {:.4g}'.format(F_guess))\n",
    "\n",
    "    print('\\nF_est-F_actual = {:.4g}'.format(F_guess-F5))\n",
    "    print('\\nRelative error is {:.4g} \\%'.format(100.*(F_guess-F5)/F5))\n",
    "  \n",
    "out5 = widgets.interactive_output(force5,{'rho5':rho5,'U_guess':U_guess,'D5':D5,'mu5':mu5,'F5':F5})\n",
    "display(ui3c,out5)"
   ]
  },
  {
   "cell_type": "markdown",
   "metadata": {
    "jupyter": {
     "outputs_hidden": false
    },
    "tags": []
   },
   "source": [
    "<p><span style=\"text-decoration: underline;\"><strong>4.2 Velocity calculator #2<br /></strong></span></p>\n",
    "<p>This calculator is an exttension of the one in 4.1. This calculator does the iteration to find the U which simultaneously satisfies Equations (1) and (2) automatically. It also incorporates the calculation in 3.2, so that the input is not force directly but particle density.</p>\n",
    "<p>The input panel below has text boxes for the particle size and density, and the fluid density and viscosity. Its output is the velocity of the corresponding particle.</p>"
   ]
  },
  {
   "cell_type": "code",
   "execution_count": 11,
   "metadata": {
    "collapsed": false,
    "jupyter": {
     "outputs_hidden": false
    }
   },
   "outputs": [
    {
     "data": {
      "application/vnd.jupyter.widget-view+json": {
       "model_id": "1fda549ec13e4eb0a739afb1449f8985",
       "version_major": 2,
       "version_minor": 0
      },
      "text/plain": [
       "HBox(children=(VBox(children=(FloatText(value=0.001376, description='$\\\\mu~~ (\\\\frac{N s}{m^2})$'), FloatText(…"
      ]
     },
     "metadata": {},
     "output_type": "display_data"
    },
    {
     "data": {
      "application/vnd.jupyter.widget-view+json": {
       "model_id": "8f321fba1af04ec2b9996880c496b8be",
       "version_major": 2,
       "version_minor": 0
      },
      "text/plain": [
       "Output()"
      ]
     },
     "metadata": {},
     "output_type": "display_data"
    }
   ],
   "source": [
    "def cd_error(r,F_D,rho,mu,U):\n",
    "    \"\"\"A function evaluating the error between the parameter U and the\n",
    "    movement speed of a sphere with radius r subjected to force F_D in\n",
    "    fluid with density rho and viscosity mu. The U for which this function\n",
    "    evaluates to zero is the steady state movement speed. \"\"\"\n",
    "    if U==0.:\n",
    "        return -F_D\n",
    "    else:\n",
    "        signU=np.sign(U)\n",
    "        absU=abs(U)\n",
    "        #print 'got here...',r,F_D,rho,mu,U\n",
    "        logRe=log(2.*rho*r*absU/mu,10)\n",
    "        logCd=CdRe(logRe)\n",
    "        return (signU*0.5*rho*pi*r**2*U**2)*10**logCd - F_D\n",
    "\n",
    "def U_sphere(r,F_D,rho,mu):\n",
    "    \"\"\"Steady-state movement velocity of a sphere in fluid, as determined by the\n",
    "    root of the error metric cd_error. \n",
    "    \"\"\"\n",
    "    # Determine the range over which the numerical root-finding algorithm should operate:\n",
    "    #Re_=2*rho*r*U./mu\n",
    "    Urange=relist[-1]*mu/(2.*rho*r)\n",
    "    Uerr = lambda u: cd_error(r,F_D,rho,mu,u)\n",
    "    U=bisect(Uerr,-Urange,Urange, rtol=0.000001,full_output=False)\n",
    "    return U\n",
    "\n",
    "mu6=widgets.FloatText(value=1.376e-3,width=20,description = r\"$\\mu~~ (\\frac{N s}{m^2})$\")\n",
    "rho_water=widgets.FloatText(value=1028.,description = r\"$\\rho~~ (\\frac{kg}{m^3})$\")\n",
    "rho_sphere=widgets.FloatText(value=1105.,description = r\"$\\rho_{sphere}~~ (\\frac{kg}{m^3})$\")\n",
    "#U_guess=widgets.FloatText(value=0.001,description = r\"$U_{guess}~~ (\\frac{m}{s})$\")\n",
    "D6=widgets.FloatText(value=5.e-6,description = r\"$D~~ (m)$\")\n",
    "#F6=widgets.FloatText(value=1.e-11,description = r\"$F~~ (N)$\")\n",
    "\n",
    "ui1d = widgets.VBox([mu6,rho_water])\n",
    "ui2d = widgets.VBox([rho_sphere,D6])\n",
    "ui3d = widgets.HBox([ui1d, ui2d])\n",
    "\n",
    "def U6(rho_water,rho_sphere,D6,mu6):\n",
    "    rr=D6/2.\n",
    "    vol=float(4./3.*pi*rr**3)\n",
    "    excess_mass=-(rho_sphere-rho_water)*vol # Keep the same sign convention as \n",
    "                                            # Het_labX.sws -- positive z is up\n",
    "    g=9.81\n",
    "    ff=g*excess_mass\n",
    "    if rho_water==rho_sphere:\n",
    "        print('External force is zero...')\n",
    "        U_s=0.\n",
    "    else:\n",
    "        U_s=U_sphere(rr,ff,rho_water,mu6)\n",
    "    print('Volume = {:.4g}'.format(vol))\n",
    "    print('Excess mass = {:.4g}'.format(excess_mass))\n",
    "    print('Gravity/buoyancy force = {:.4g}'.format(g*excess_mass))\n",
    "    print('Reynolds number: Re = {:.4g}'.format(2.*rr*abs(U_s)*rho_water/mu6))\n",
    "    print('U = {:.4g}'.format(U_s))\n",
    "  \n",
    "out6 = widgets.interactive_output(U6,{'rho_water':rho_water,'rho_sphere':rho_sphere,\n",
    "                                      'D6':D6,'mu6':mu6})\n",
    "display(ui3d,out6)\n",
    "\n",
    "    #Flux_diff= 4 * pi * dd * rr * (C_w-C_s)\n",
    "    #Sh = Sherwood(rr,dd,rho_water,mu,abs(U_s))\n",
    "    #Flux_adv=float(Sh*Flux_diff)\n",
    "    #print 'Sherwood number: Sh = ',Sh\n",
    "    #print 'Diffusive flux: F_diff = ',float(Flux_diff)\n",
    "    #print 'Advective flux: F_adv = ',float(Flux_adv)"
   ]
  },
  {
   "cell_type": "markdown",
   "metadata": {
    "jupyter": {
     "outputs_hidden": false
    }
   },
   "source": [
    "<p style=\"text-align: center;\"><span style=\"font-size: x-large;\">5. Particle transport by currents and turbulence<em></em><br /></span></p>\n",
    "<p><span style=\"text-decoration: underline;\"><strong>5.1 Transport of partickes by currents in air, water and other fluids <br /></strong></span></p>\n",
    "<p>Many environmental fluids&nbsp;&ndash; masses of air in weather systems, or the water in lakes, rivers, estuaries, and the open ocean) &ndash; are moving at velocities that can vary from almost undetected to extremely rapid. Particles enbedded in these fluids have two components of velocity:</p>\n",
    "<ol>\n",
    "<li>The particles' velocity relative to the fluid in which they are embedded;</li>\n",
    "<li>The velocity of the fluid itself.</li>\n",
    "</ol>\n",
    "<p>So far, in our consideration of particle movement in fluids, we have focused on the first of these velocity components. Here, we will begin to considered the consequences of the second.</p>\n",
    "<p>Let's begin with an example from our previous work: Suppose a rice farmer uses a crop-dusting airplane to apply pesticide to a rice paddy under no-wind conditions. The crop-duster has nozzles that emit droplets of known size. If we know the density of the pesticide mixture, we can calculate the sinking velocity of the liquid pesticide droplets using the calculators in Section 4. This assumes the particles are approximately spherical, which is probably a good assumption if the droplets are smal). If we know the height at which these particles were released, we can use the sinking rate to calculate how long it takes pesticide particles to arrive at ground level.</p>\n",
    "<p>Under no-wind conditions, a long descent time means only a delay in arrival at the rice paddy. However, suppose rather than no-wind conditions there is a moderate breeze. In this scenario, as particles sink vertically they are carried horizontally by the wind. If you have walked downwiind of a sprinkler or fountain in a stiff wind you are familiar with this phenomenon.</p>\n",
    "<p>In the windy scenario, sinking time has a consequnce that is potentially much more important than a delayed arrival time at the paddy: a long delay and strong wind might mean the pesticide arrives at ground level far downwind&nbsp;&ndash; potentially missing the rice paddy entirely.</p>\n",
    "<p>The phenomenon of particles, mass, momentum, energy or any other <span style=\"text-decoration: underline;\">conserved quantity</span> being carried by moving fluid is called <em>advection</em> or <em>convection</em>. Different fields in the natural sciences use these terms slightly differently, but in all cases they imply that moving fluid transports a conserved quantity.</p>\n",
    "<p><span style=\"text-decoration: underline;\"><strong>5.2 Mixing by turbulence <br /></strong></span></p>\n",
    "<p>Another feature common to many environmental fluids is <span style=\"text-decoration: underline;\">turbulence</span>.If you have been aboaard an airplane flying through turbulent air, you have felt first-hand that turbulence is composed of \"eddies\" and other small-scale but energetic fluctuations of fluid velocity. Turbulence is also a very effective mechanism for mixing. When you stir your coffee to mix cream or sugar, you can see how effectuve this mechanism is. Sometime, when you have a lot of time on your hands, add cream or sugar and wait for the mixing to occur without stirring. This will give you a sense for how much turbulence has sped up the mixing process. You also had experience with this phenomenon simulating wind-driven turbulence in the test-tube model of the rice paddy water column, and in observing dye transport in the Puget Sound Model.</p>\n",
    "<p>Currents and other advective flows can cause turbulence&nbsp;&ndash; faster flows tend to be more turbulent. However, it's important to keep in mind the difference between transport by currents (advection or convection) and mixing by turbulence. In advection, if you start with a blob of a solute such as pesticide, the overall average position (in engineering jargon, the center of mass) of that blob moves with the current over time. If you start with a blob of pesticide in turbulence, that blob will spread in all directions, but its average position will not change. This means the effect of turbulence is in some ways analagous to molecular diffusion; however, mixing by turbulence is much, much faster than molecular diffusion except at very small length scales (i.e., much smaller than a millimeter).</p>\n",
    "<p>Keeping in mind that advection and turbulence are distinct forms of transport by fluids, we can anticipate environmental situations in which we have high adection and low turbulence; low advection and high turbulence, high advection and high turbulence, etc.</p>\n",
    "<p><span style=\"text-decoration: underline;\"><strong>5.3 Models of particle transport by advection and turbulence <br /></strong></span>A simple but useful approach for estimating the transport of particles in environmental flows is called a <span style=\"text-decoration: underline;\">Gaussian plume model</span>. To explain the key assumptions of this model, we'll use a terrestrial example of wind-borne seed dispersal (useful references are a journal article, Okubo and Levin (1989), which is on our ShareSpace, and a book by the same authors, Okubo and Levin (2001), that is in the library).The question we will address is: If a plant or tree releases seeds with sinking velocity <em>U</em><span id=\"cell_outer_5\"><em></em><span id=\"cell_outer_0\"><span id=\"cell_outer_4\"><em><sub>s</sub></em></span></span></span> above the ground at a height <em>h</em>, how widely do its seeds disperse? You can think of many examples of pollutant particles, carbon-containing particles in the ocean, aeolian dust particles, etc, whose distribution patterns are exactly analogous.</p>\n",
    "<p>In the Gaussian Plume Model of seed dispersal, we'll assume that there is constant wind velocity, <em>W</em>. In reality, the wind would likely vary over time and at different heights in intensity and direction; we will neglect this variation. We'll also assume that turbulent intensity, <em>K</em>, is also equal at all times and places. In reality, turbulence would also vary in time and space, but we will again neglect this complication. Finally, we'll assume that at large scales the advective transport is much faster than the turbulent mixing. This is mostly a technical detail, because it is almost always true for most parts of environmental flows, but this assumptions can have consequences in specific parts of the environment (very near the source, very near the ground, etc.).&nbsp;</p>\n",
    "<p>If we accept these assumptions, we can calculate formulas for the concentration of seeds in different parts of the atmosphere surrounding the seed source, and for the rate at which seeds are deposited on the ground at various downstream distances. These forumlas are calculated for you in the Gaussian Plume calculator below.</p>\n",
    "<p><em>Model Inputs</em>: In the default settings (to reproduce these, just quit the worksheet and start it up again), the seed source is set to <em>h</em> = 10 <em>m</em>, the seed's sinking speed is <em>U</em><span id=\"cell_outer_5\"><em></em><span id=\"cell_outer_0\"><span id=\"cell_outer_4\"><em><sub>s</sub></em></span></span></span> = 0.5<em> m</em>/<em>s</em>, and the rate at which seeds are released is one per second: <em>n </em>= 1 <em>s</em><span id=\"cell_outer_0\"><span id=\"cell_outer_0\"><em><span id=\"cell_outer_0\"><sup>-1</sup></span></em></span></span>. The default wind speed is <em>W</em> = 1 <em>m</em>/<em>s</em>, and the default turbulent mixing intensity is <em>K</em> = 0.5 <em>m</em><span id=\"cell_outer_0\"><span id=\"cell_outer_0\"><em><span id=\"cell_outer_0\"><sup>2</sup></span></em></span></span>/<em>s</em>. You can modify these as needed to apply to a specific problem. For example, in calculating the distribution pattern of pesticide from aerial spraying, you might calculate the sinking speed of pesticide droplets in Section 4, and use the calculator below to explore the consequences of various release heights, wind speeds, turbulence intensities, etc.</p>\n",
    "<p><em>Model outputs</em>: The model output is in the form of three plots. The top graph is the total rate of deposition as a function of downstream distance from the source. This is called the Cross-Wind Integrated Deposition, or CWID. This terms means simply that we are not concerned with the relatively small spread of pesticide in the cross-stream direction &ndash; we are instead interested in the much larger dispersal of seeds (or other particles) in the downstream direction. The CWID integrates across all cross-stream positions, so it is straightforward to see the downstream transport. In this plot, the horizontal axis is distance downstream from the source, <em>x</em>. You can specify the extent of ground plotted by adjusting the plotting parameter <span id=\"cell_outer_5\"><em>x</em><span id=\"cell_outer_0\"><span id=\"cell_outer_4\"><em><sub>max</sub></em></span></span></span>.</p>\n",
    "<p>The bottom two plots show the distribution of seeds in the air (or other particles in other fluids, as the case may be). In these plots, the horizontal acis is <em>x</em>, and the vertical axis is height above the ground, <em>z</em>. The color contours represent particle concentration. The first of these two plots shows this concentration on a linear scale, as indicated by the scale bar at right. The bottom plot shows the same concentration, but on a log<span id=\"cell_outer_5\"><em></em><span id=\"cell_outer_0\"><span id=\"cell_outer_4\"><em><sub>10</sub></em></span></span></span> scale. The two plots show the same distribution; is is often easier to get an overall sense for the plume pattern more easily on the linear scale plot, but easier to see dilute parts of the particle distribution using the log scale plot.</p>\n",
    "<p>&diams; <em>Note that, as in previous worksheets, to use a plot in your Study Question write-up you can right-click on them and save them to your computer (they are png files, so they should be easy to them clip into your document)</em>.</p>"
   ]
  },
  {
   "cell_type": "code",
   "execution_count": 49,
   "metadata": {
    "collapsed": false,
    "jupyter": {
     "outputs_hidden": false
    }
   },
   "outputs": [
    {
     "data": {
      "application/vnd.jupyter.widget-view+json": {
       "model_id": "ab9440046dc04163b74b2fa37de04056",
       "version_major": 2,
       "version_minor": 0
      },
      "text/plain": [
       "HBox(children=(VBox(children=(FloatText(value=40.0, description='Range of plot, $X_{max}$ ($m$)'), FloatText(v…"
      ]
     },
     "metadata": {},
     "output_type": "display_data"
    },
    {
     "data": {
      "application/vnd.jupyter.widget-view+json": {
       "model_id": "088814cd39ac47b5a09d0c1ed6f922f0",
       "version_major": 2,
       "version_minor": 0
      },
      "text/plain": [
       "Output()"
      ]
     },
     "metadata": {},
     "output_type": "display_data"
    }
   ],
   "source": [
    "#import matplotlib\n",
    "plot_prefix = \"GaussPlume_plot%d\" % (int(10000.*np.random.uniform()))\n",
    "\n",
    "xmax=widgets.FloatText(value=40.,width=20,description = r\"Range of plot, $X_{max}$ ($m$)\")\n",
    "n=widgets.FloatText(value=1.,description = r\"Particle release rate, $n$ ($\\#/s$)\")\n",
    "H=widgets.FloatText(value=10.,description = r\"Release height, $h$ ($m$)\")\n",
    "W_s=widgets.FloatText(value=0.5,description = r\"Particle sinking speed, $U_{s}$ ($m/s$)\")\n",
    "u_bar=widgets.FloatText(value=1.,description = r\"Wind speed, $W$ (m/s)\")\n",
    "A=widgets.FloatText(value=0.5,description = r\"Turbulent mixing intensity, $K$ ($m**2/s$)\")\n",
    "\n",
    "ui1f = widgets.VBox([xmax,n,H])\n",
    "ui2f = widgets.VBox([W_s,u_bar,A])\n",
    "ui3f = widgets.HBox([ui1f, ui2f])\n",
    "\n",
    "def Sh7(xmax,n,H,W_s,u_bar,A):\n",
    "    # This is a combination of results from Okubo & Levin (1989) and CHapt 3, p. 67 from Okubo & Levin (2001).\n",
    "    #\n",
    "    # Note that this has somewhat confusing notation. The coded variable have symbols consistent with the \n",
    "    # literature from which they were cited. The text box labels have notation consistent with the\n",
    "    # rest of the worksheet, and with intutive symbols (like W for wind instead of u_bar).\n",
    "    n=1.     # The rate of pollen release -- leave 1 to have normalized deposition.\n",
    "    nbins=200\n",
    "    xs=np.linspace(0.5,xmax,nbins)\n",
    "    #xs=np.linspace(0.,xmax,nbins+1)[1:-1]\n",
    "    #print 'xs = ',xs\n",
    "    # Calculate Cross-Wind Integrated Deposition (CWID)\n",
    "    sigma_z=np.sqrt(2*A*xs/u_bar);\n",
    "    CWID=n*W_s/(sqrt(2*pi)*u_bar*sigma_z)*np.exp(-(H - W_s*xs/u_bar)**2./(2*sigma_z**2))\n",
    "    \n",
    "    #  Create a plot of CWID\n",
    "    fig3, ax3 = plt.subplots()\n",
    "    CWIDpts=[[xs[i],CWID[i]] for i in range(len(xs))]\n",
    "    ax3.plot(xs,CWID,'-',color='red',label='CWID')\n",
    "    ax3.set_xlabel(r'Distance from source, $x$')\n",
    "    ax3.set_ylabel(r'Particle deposition rate, $CWID$')\n",
    "    \n",
    "    # Create a contour plot of the underlying Gaussian plume (log scale for conc.):\n",
    "    fig4, ax4 = plt.subplots()\n",
    "    S = lambda n_,u_,K_,x_,z_,w_s_,H_: n_*np.sqrt(u_/(float(pi)*K_*x_))*np.exp(-((z_-H_)+w_s_*x_/u_)**2/(4*K_*x_/u_))   \n",
    "    x = np.arange(xs[0],xmax,(xmax-xs[0])/nbins)\n",
    "    z = np.arange(0.,1.5*H,H/32.)\n",
    "    X,Z=np.meshgrid(x,z)\n",
    "    #print 'X=',X\n",
    "    #print np.size(X)\n",
    "    s=S(n,u_bar,A,X,Z,W_s,H)\n",
    "    s_log10=np.log10(S(n,u_bar,A,X,Z,W_s,H))\n",
    "    #s_log10=log(S(n,u_bar,A,X,Z,W_s,H),10.)\n",
    "    #print 'max(s)=',s.max()\n",
    "    #print 's = ',s\n",
    "    #print 'max(s_log10)=',s_log10.max()\n",
    "    #print 's_log10 = ',s_log10\n",
    "    \n",
    "\n",
    "    levels=[-6.,-5.,-4.,-3.,-2.,-1.,0.]\n",
    "    CS2 = ax4.contourf(X, Z, s_log10,levels)\n",
    "    #pyplot.clim([-6.,0.])\n",
    "    cbar = plt.colorbar(CS2)\n",
    "    #plt.clabel(CS, inline=1, fontsize=10)\n",
    "    plt.title('Gaussian plume model: $\\log_{10}$ scale')\n",
    "    plt.xlabel(\"Distance from source, $x$\")\n",
    "    plt.ylabel(\"Height, $z$\")        \n",
    "    plt.savefig(plot_prefix+\".2.png\")\n",
    "\n",
    "    # Create a contour plot of the underlying Gaussian plume (log scale for conc.):\n",
    "    fig5, ax5 = plt.subplots()\n",
    "    \n",
    "    CS = ax5.contourf(X, Z, s)\n",
    "    #pyplot.clim([0.,2.])\n",
    "    cbar = plt.colorbar(CS)\n",
    "    #plt.clabel(CS, inline=1, fontsize=10)\n",
    "    \n",
    "    plt.title('Gaussian plume model: linear scale')\n",
    "    plt.xlabel(\"Distance from source, $x$\")\n",
    "    plt.ylabel(\"Height, $z$\")        \n",
    "    #plt.savefig(plot_prefix+\".1.png\")\n",
    "    \n",
    "    \n",
    "    # Show the plots\n",
    "    #plt.show()\n",
    "    #show(CWIDplot,gridlines=True)\n",
    "    \n",
    "out8 = widgets.interactive_output(Sh7,{'xmax':xmax,'n':n,'H':H,'u_bar':u_bar,'A':A,'W_s':W_s})\n",
    "display(ui3f,out8)\n"
   ]
  },
  {
   "cell_type": "markdown",
   "metadata": {
    "jupyter": {
     "outputs_hidden": false
    }
   },
   "source": [
    "<p style=\"text-align: center;\"><span style=\"font-size: x-large;\">6. Mass flux in and out of moving particles<em></em><br /></span></p>\n",
    "<p><span style=\"text-decoration: underline;\"><strong>6.1 Effects of flow on molecular transport mechanisms <br /></strong></span></p>\n",
    "<p>We are all familiar with the phenomenon of \"wind chill\" &ndash; we get colder on a chilly, windy day than on a day that is equally cold but has no wind. Similarly, if you pour sugar crystals into your tea and let them sit on the bottom of your cup, they will take some time to dissolve. If you stir your tea so that there is flow over the crystals they dissolve almost immediately. In general, molecular transport mechanisms are often enhanced by flow.</p>\n",
    "<p>Just as we used a scale model approach to estimate how fast particles move in fluids, we can use this approach to estimate how molecular transport mechanisms like diffusion are enhanced by particle movement. The most convenient way to perform this calculation is with another <span style=\"text-decoration: underline;\">dimensionless ratio</span> (recall that the Reynolds number is dimensionless, because it is the quotient of a force divided by another force &ndash; the units of force in the numerator and denominator cancel). The new dimensionless ratio is called the Sherwood number, <em>Sh</em>, and is defined as</p>\n",
    "<p style=\"text-align: center;\"><em>Sh</em> = (<em>mass flux with diffusion and flow</em>)/(<em>mass flux with diffusion alone</em>).</p>\n",
    "<p>For example, suppose we consider a phytoplankton cell that is absorbing nutrients as it slowly sinks in the water column.&nbsp;<em>Sh</em> is the actual mass transport of nutrients into the cell, divided by the mass of nutrients that would be transported if the cell were not sinking but were stationary in the water. If the cell were stationary, mass transport would occur by diffusion alone. If the cell is moving, the wind chill and stirred tea examples suggest that nutrient transport might be much higher. If so, then actual transport is higher than transport by diffusion alone, and <em>Sh</em> &gt; 1.</p>\n",
    "<p>Two points are important here:</p>\n",
    "<p>First, <em>Sh</em> is a function of velocity (in this case, the sinking speed). Possible values range from <em>Sh</em> = 1, for a particle that is moving very slowly or not at all (that is, no enhancement of transport due to movement) to very large values (<em>Sh</em> &gt; 100) for some rapidly moving particles. That means mass transport has been increased by a factor of more than 100. As you can imagine, this could make quite a difference to nutrient uptake by cells, and in many other analogous situations.</p>\n",
    "<p>Because Sh depends on velocity, it is effectively summarized as a function of <em>Re</em> (just as was the coefficient of drag, <span id=\"cell_outer_3\"><span id=\"cell_outer_0\"><span id=\"cell_outer_4\"><em>C<sub>d</sub></em></span></span></span>). Here, <em>Re</em> summarizes how fluid flows around the particle. Because diffusion is involved, we also need a way to express the diffusion rate of the nutrient (or other solute, as the case may be). The convenient way to express this is as another dimensionless ratio, the Schmidt number, <em>Sc</em>. <em>Sc</em> has a simple definition:</p>\n",
    "<p style=\"text-align: center;\"><em>Sc</em>=&mu;/(<em>D</em>&times;&rho;) ,</p>\n",
    "<p>where &mu; is the fluid viscosity, &rho; is the fluid density, and <em>D</em> is the diffusion coefficient of the solute in the fluid.</p>\n",
    "<p>Second, for many simple shapes, we have a formula for the mass tranport due to diffusion alone. For example, for a spherical particle, the mass transport of solute into the particle due to diffusion alone is</p>\n",
    "<p style=\"text-align: center;\"><span id=\"cell_outer_3\"><span id=\"cell_outer_0\"><span id=\"cell_outer_4\"><em>Q<sub>diff</sub></em></span></span></span> = 2&pi; <em>D</em>&nbsp;&times; <em>d</em>&nbsp;&times; (<span id=\"cell_outer_3\"><span id=\"cell_outer_0\"><span id=\"cell_outer_4\"><em>C<sub>w</sub></em></span></span></span>-<span id=\"cell_outer_3\"><span id=\"cell_outer_0\"><span id=\"cell_outer_4\"><em>C<sub>s</sub></em></span></span></span>).</p>\n",
    "<p>In this formula, <em>d</em> is the particle diameter,&nbsp;&nbsp;<span id=\"cell_outer_3\"><span id=\"cell_outer_0\"><span id=\"cell_outer_4\"><em>C<sub>w</sub></em></span></span></span>&nbsp; is the solute concentration in the fluid far from the particle. <span id=\"cell_outer_3\"><span id=\"cell_outer_0\"><span id=\"cell_outer_4\"><em>C<sub>s</sub></em></span></span></span> is the concentration at the surface of the particle. For example, if the particle is extremely effective at absorbing the solute (as might be approximately true for a phytoplankton cell absorbing nutrients) the&nbsp;<span id=\"cell_outer_3\"><span id=\"cell_outer_0\"><span id=\"cell_outer_4\"><em>C<sub>s</sub></em></span></span></span> &asymp; 0.</p>\n",
    "<p>If we have a formula for <span id=\"cell_outer_3\"><span id=\"cell_outer_0\"><span id=\"cell_outer_4\"><em>Q<sub>diff</sub></em></span></span></span>, then all we need to know is <em>Sh</em>, and we can calculate the actual mass flux (including diffusion <span style=\"text-decoration: underline;\">and</span> advection) into a moving particle, <span id=\"cell_outer_3\"><span id=\"cell_outer_0\"><span id=\"cell_outer_4\"><em>Q<sub>adv</sub></em></span></span></span>. A very useful set of formulas approximating <em>Sh</em> relevant to many environmental particles is given by Kiorboe et al. (2001), which is on our ShareSpace. Here are some plots of <em>Sh</em> as a function of <em>Re</em> and <em>Sc</em>:</p>"
   ]
  },
  {
   "cell_type": "code",
   "execution_count": 46,
   "metadata": {
    "tags": []
   },
   "outputs": [],
   "source": [
    "def Sherwood(r,D,rho,mu,U):\n",
    "    \"\"\" Calculate the Sherwood number for a moving sphere according to the curve fit from\n",
    "    Kiorboe et al. (2001). D is the diffusion coefficient; other parameters as above.\"\"\"\n",
    "    Re_=r*U*rho/mu  # Note that Kiorboe et al. use radius, not diameter as the length scale for Re\n",
    "    Pe_=r*U/D  # Note that Kiorboe et al. use radius, not diameter as the length scale for Re\n",
    "    Sc=mu/(D*rho)\n",
    "    #Sc=Pe_/Re_\n",
    "    Sh = 1. + 0.62 * Re_**0.41 * Sc**(1/3)\n",
    "    return Sh\n",
    "\n",
    "\n",
    "Sh_RePe = lambda Re_,Pe_: Sherwood(1,Pe_**(-1),1,Re_**(-1),1)   \n",
    "Sh_RePe3333 = lambda Re_: Sherwood(1,3333.**(-1),1,Re_**(-1),1)   \n",
    "Sh_RePe1000 = lambda Re_: Sherwood(1,1000.**(-1),1,Re_**(-1),1)   \n",
    "Sh_RePe333 = lambda Re_: Sherwood(1,333.**(-1),1,Re_**(-1),1)   \n",
    "Sh_ReSc = lambda Re_,Sc_: Sherwood(1,1./(Sc_*Re_),1.,1./Re_,1.)   \n",
    "Sh_ReSc3333 = lambda Re_: Sherwood(1.,1./(3333.*Re_),1.,1./Re_,1.)   \n",
    "Sh_ReSc1000 = lambda Re_: Sherwood(1,1./(1000.*Re_),1.,1/Re_,1.)   \n",
    "Sh_ReSc333 = lambda Re_: Sherwood(1,1./(333.*Re_),1.,1./Re_,1.)   "
   ]
  },
  {
   "cell_type": "code",
   "execution_count": 47,
   "metadata": {
    "collapsed": false,
    "jupyter": {
     "outputs_hidden": false
    }
   },
   "outputs": [
    {
     "data": {
      "image/png": "[encoded data removed]",
      "text/plain": [
       "<Figure size 640x480 with 1 Axes>"
      ]
     },
     "metadata": {},
     "output_type": "display_data"
    }
   ],
   "source": [
    "# Show the Sherwood plots \n",
    "fig2, ax2 = plt.subplots()\n",
    "Re_Sher = np.linspace(1.e-1,2.e1,num=128)\n",
    "ax2.plot(Re_Sher,Sh_ReSc3333(Re_Sher),color='cyan',label='Sc=3333')\n",
    "ax2.plot(Re_Sher,Sh_ReSc1000(Re_Sher),color='red',label='Sc=1000')\n",
    "ax2.plot(Re_Sher,Sh_ReSc333(Re_Sher),color='blue',label='Sc=333')\n",
    "ax2.set_xlabel(r'Reynolds number, $Re$')\n",
    "ax2.set_ylabel(r'Sherwood number, $Sh$')\n",
    "ax2.legend();"
   ]
  },
  {
   "cell_type": "markdown",
   "metadata": {
    "jupyter": {
     "outputs_hidden": false
    }
   },
   "source": [
    "<p><span style=\"text-decoration: underline;\"><strong>6.2 Sherwood number calculator <br /></strong></span></p>\n",
    "<p>As you can see in the plot above, under some conditions mass transport is greatly increased by fluid flow. But unfer other conditions the increase is miniaml. Which applies to a given situation?</p>\n",
    "<p>The text panel below enables you to enter the particle size, density and surface solute concentration, and the fluid viscosity, density and solute concentration. The worksheet will then calculate for you the corresponding <em>Re</em>, <em>Sh</em> and mass transport rates.</p>\n",
    "<p>In many environmental problems, important issues involve the amount of mass transport per unit mass of particle. For example, a pollution problem may involve knowing whether a given mass of pollutant divided into many small particles has a different environmental effect than the same mass in a few larger particles. In the example of nutrient uptake by phytoplankton, an ecological question might revolve around whether a given biomass of small cells is more effective at competing for nutrients than an equal biomass of large cells. The calculator enables you to address those questions by calculating the mass transport per unit mass of particle.</p>"
   ]
  },
  {
   "cell_type": "code",
   "execution_count": 48,
   "metadata": {
    "collapsed": false,
    "jupyter": {
     "outputs_hidden": false
    }
   },
   "outputs": [
    {
     "data": {
      "application/vnd.jupyter.widget-view+json": {
       "model_id": "870248b8894a4c8dad7c7ee107051a3d",
       "version_major": 2,
       "version_minor": 0
      },
      "text/plain": [
       "HBox(children=(VBox(children=(FloatText(value=0.001376, description='$\\\\mu~~ (\\\\frac{N s}{m^2})$'), FloatText(…"
      ]
     },
     "metadata": {},
     "output_type": "display_data"
    },
    {
     "data": {
      "application/vnd.jupyter.widget-view+json": {
       "model_id": "1bffefc035e54bd7a687cb31be7d3bbe",
       "version_major": 2,
       "version_minor": 0
      },
      "text/plain": [
       "Output()"
      ]
     },
     "metadata": {},
     "output_type": "display_data"
    }
   ],
   "source": [
    "mu7=widgets.FloatText(value=1.376e-3,width=20,description = r\"$\\mu~~ (\\frac{N s}{m^2})$\")\n",
    "rho_water=widgets.FloatText(value=1028.,description = r\"$\\rho~~ (\\frac{kg}{m^3})$\")\n",
    "rho_sphere=widgets.FloatText(value=1105.,description = r\"$\\rho_{sphere}~~ (\\frac{kg}{m^3})$\")\n",
    "C_s=widgets.FloatText(value=0.,description = r\"$C_s$\")\n",
    "C_w=widgets.FloatText(value=1.,description = r\"$C_w$\")\n",
    "D7=widgets.FloatText(value=5.e-6,description = r\"$D~~ (m)$\")\n",
    "K7=widgets.FloatText(value=0.001,description = r\"$K~~ (\\frac{m^2}{s})$\")\n",
    "\n",
    "ui1e = widgets.VBox([mu7,rho_water,C_w])\n",
    "ui2e = widgets.VBox([rho_sphere,C_s,D7])\n",
    "ui3e = widgets.HBox([ui1e, ui2e])\n",
    "\n",
    "def Sh7(rho_water,rho_sphere,D7,mu7,K7,C_w,C_s):\n",
    "    rr=D7/2.\n",
    "    vol=float(4./3.*pi*rr**3)\n",
    "    excess_mass=-(rho_sphere-rho_water)*vol # Keep the same sign convention as \n",
    "                                            # Het_labX.sws -- positive z is up\n",
    "    g=9.81\n",
    "    ff=g*excess_mass\n",
    "    if rho_water==rho_sphere:\n",
    "        print('External force is zero...')\n",
    "        U_s=0.\n",
    "    else:\n",
    "        U_s=U_sphere(rr,ff,rho_water,mu7)\n",
    "    print('Volume = {:.4g}'.format(vol))\n",
    "    print('Excess mass = {:.4g}'.format(excess_mass))\n",
    "    print('Gravity/buoyancy force = {:.4g}'.format(g*excess_mass))\n",
    "    print('Reynolds number: Re = {:.4g}'.format(2.*rr*abs(U_s)*rho_water/mu7))\n",
    "    print('U = {:.4g}'.format(U_s))\n",
    "\n",
    "    Flux_diff= float(4 * pi * K7 * rr * (C_w-C_s))\n",
    "    #print '\\nFlux_diff=',Flux_diff\n",
    "    Sh = Sherwood(rr,K7,rho_water,mu7,abs(U_s))\n",
    "    Flux_adv=float(Sh*Flux_diff)\n",
    "    print('\\nSherwood number: Sh = {}'.format(Sh))\n",
    "    print('Diffusive transport: Q_diff = {}'.format(Flux_diff))\n",
    "    print('Advective transport: Q_adv = {}'.format(Flux_adv))\n",
    "    \n",
    "    print('\\nAdvective transport per unit mass: Q_adv/Excess mass = {}'.format(Flux_adv/abs(excess_mass)))   \n",
    "    \n",
    "    \n",
    "out7 = widgets.interactive_output(Sh7,{'rho_water':rho_water,'rho_sphere':rho_sphere,\n",
    "                                      'D7':D7,'mu7':mu7,'K7':K7,'C_s':C_s,'C_w':C_w})\n",
    "display(ui3e,out7)"
   ]
  },
  {
   "cell_type": "code",
   "execution_count": null,
   "metadata": {},
   "outputs": [],
   "source": []
  }
 ],
 "metadata": {
  "kernelspec": {
   "display_name": "Python 3 (ipykernel)",
   "language": "python",
   "name": "python3"
  },
  "language_info": {
   "codemirror_mode": {
    "name": "ipython",
    "version": 3
   },
   "file_extension": ".py",
   "mimetype": "text/x-python",
   "name": "python",
   "nbconvert_exporter": "python",
   "pygments_lexer": "ipython3",
   "version": "3.10.10"
  }
 },
 "nbformat": 4,
 "nbformat_minor": 4
}
