{
 "cells": [
  {
   "cell_type": "markdown",
   "id": "b2ae7595-1ecc-4a7c-8d0b-7aee1053ac9b",
   "metadata": {},
   "source": [
    "A graphical interface for using the pyVRS (Python Volume-Rendered Swimmer) model of low-Reynolds number hydrodynamics to investigate stability and movement of early-stage larval morphologies approximated by chimeras of semi-ellipsoids."
   ]
  },
  {
   "cell_type": "code",
   "execution_count": 1,
   "id": "dfa5777c-6244-4f4a-936f-b8a370d2d20a",
   "metadata": {
    "tags": []
   },
   "outputs": [
    {
     "name": "stdout",
     "output_type": "stream",
     "text": [
      "Using matplotlib backend: <object object at 0x7fd389a6a960>\n",
      "Import of stl_utils (or numpy-stl) failed -- stl file import will not be available.\n"
     ]
    }
   ],
   "source": [
    "# Set up graphics environment\n",
    "%matplotlib\n",
    "from mpl_toolkits import mplot3d\n",
    "from matplotlib import pyplot\n",
    "from matplotlib.colors import LightSource\n",
    "pyplot.ioff()\n",
    "# Import modules\n",
    "import numpy as np\n",
    "from math import pi\n",
    "import os\n",
    "import pyVRS.pyVRSmorph as mrph\n",
    "import pyVRS.pyVRSflow as flw\n",
    "from pyVRS.meshEllipsoid import chimeraEllipsoid\n",
    "# Import widget infrastructure\n",
    "from ipywidgets import interact, interactive, fixed, interact_manual\n",
    "import ipywidgets as widgets"
   ]
  },
  {
   "cell_type": "code",
   "execution_count": null,
   "id": "4c933c58-02aa-4eae-9451-7230e2765867",
   "metadata": {},
   "outputs": [],
   "source": [
    "# Instantiate a Params object and a GUI to modify parameters. \n",
    "params=Params(auto_plot=True)\n",
    "# Restrict to a single environment, to simplify the interface\n",
    "#save_all=False,s_egg=0.1,s_0=0.75,s_1=0.25,s_2=1.,\n",
    "#                 Smax=1.25,s_j=1.,N0=1.,n_env=1,\n",
    "#                 t_env_cycle=1.,env_cycle_ratios=np.array([1.]),g_pars=[{'g0':1.}],\n",
    "#                 m_pars=[{'m0':0.15}],alpha=-0.75,c_0 = 0.5,f_2 = 1.,C = None,\n",
    "#                 nruns=1,start_time=0.,end_time=10.,dt=0.05,max_step=0.005,ns=4*32,\n",
    "#                 abserr=1.e-12,relerr=1.e-10,auto_plot=False\n",
    "s_egg=widgets.FloatText(value=0.1,width=10,description = r\"$s_{egg}$\")\n",
    "s_0=widgets.FloatText(value=0.75,description = r\"$s_0$\")\n",
    "s_1=widgets.FloatText(value=0.25,description = r\"$s_1$\")\n",
    "s_2=widgets.FloatText(value=1.0,description = r\"$s_2$\")\n",
    "Smax=widgets.FloatText(value=1.25,description = r\"$s_{max}$\")\n",
    "g0=widgets.FloatText(value=1.,description = r\"$g_0$\")\n",
    "m0=widgets.FloatText(value=0.15,description = r\"$m_0$\")\n",
    "alpha=widgets.FloatText(value=-0.75,description = r\"$\\alpha$\")\n",
    "c_0=widgets.FloatText(value=0.5,description = r\"$c_0$\")\n",
    "f_2=widgets.FloatText(value=1.,description = r\"$f_2$\")\n",
    "\n",
    "h = '30px'\n",
    "L_s_egg = widgets.Label(value='Egg size',layout=widgets.Layout(display=\"flex\", \n",
    "                                        justify_content=\"flex-end\",width=\"97%\",height=h))\n",
    "L_s_0 = widgets.Label(value='Size at cloning',layout=widgets.Layout(display=\"flex\", \n",
    "                                        justify_content=\"flex-end\",width=\"95%\",height=h))\n",
    "L_s_1 = widgets.Label(value='Clone size',layout=widgets.Layout(display=\"flex\", \n",
    "                                        justify_content=\"flex-end\",width=\"95%\",height=h))\n",
    "L_s_2 = widgets.Label(value='Size at metamorphosis',layout=widgets.Layout(display=\"flex\", \n",
    "                                        justify_content=\"flex-end\",width=\"97%\",height=h))\n",
    "L_Smax = widgets.Label(value='Plot limit',layout=widgets.Layout(display=\"flex\", \n",
    "                                        justify_content=\"flex-end\",width=\"90%\",height=h))\n",
    "uiL1 = widgets.VBox([L_s_egg,L_s_0,L_s_1,L_s_2,L_Smax])\n",
    "\n",
    "L_g0 = widgets.Label(value='Growth rate',layout=widgets.Layout(display=\"flex\", \n",
    "                                        justify_content=\"flex-start\",width=\"97%\",height=h))\n",
    "L_m0 = widgets.Label(value='Mortality rate',layout=widgets.Layout(display=\"flex\", \n",
    "                                        justify_content=\"flex-start\",width=\"95%\",height=h))\n",
    "L_c_0 = widgets.Label(value='Cloning probability',layout=widgets.Layout(display=\"flex\", \n",
    "                                        justify_content=\"flex-start\",width=\"95%\",height=h))\n",
    "L_f_2 = widgets.Label(value='Metamorphosis probability',layout=widgets.Layout(display=\"flex\", \n",
    "                                        justify_content=\"flex-start\",width=\"97%\",height=h))\n",
    "uiL2 = widgets.VBox([L_g0,L_m0,L_c_0,L_f_2])\n",
    "\n",
    "\n",
    "LabelObj = widgets.Label(value='Object',layout=widgets.Layout(display=\"flex\", \n",
    "                                        justify_content=\"center\",width=\"100%\"))\n",
    "LabelObj1 = widgets.Label(value='Object')\n",
    "Space = widgets.Label(value=' ',\n",
    "                         layout=widgets.Layout(display=\"flex\", \n",
    "                                               justify_content=\"center\", \n",
    "                                               width=\"100%\"))\n",
    "LabelModel = widgets.Label(value='Model',\n",
    "                         layout=widgets.Layout(display=\"flex\", \n",
    "                                               justify_content=\"flex-end\", \n",
    "                                               width=\"150%\"))\n",
    "ui0 = widgets.VBox([LabelObj,LabelObj1,Space,LabelModel])\n",
    "ui1 = widgets.VBox([s_egg,s_0,s_1,s_2,Smax])\n",
    "ui2 = widgets.VBox([g0,m0,c_0,f_2])\n",
    "ui3 = widgets.HBox([uiL1,ui1,ui2,uiL2])\n",
    "\n",
    "def setParams(s_egg,s_0,s_1,s_2,Smax,g0,m0,alpha,c_0,f_2):\n",
    "    params=Params(auto_plot=True)\n",
    "    params.s_egg = s_egg\n",
    "    params.s_0 = s_0\n",
    "    params.s_1 = s_1\n",
    "    params.s_2 = s_2\n",
    "    params.Smax = Smax\n",
    "    params.g_pars = [{'g0':g0}]\n",
    "    params.m_pars = [{'m0':m0}]\n",
    "    params.alpha = alpha\n",
    "    params.c_0 = c_0\n",
    "    params.f_2 = f_2\n",
    "    result=ClonePDE(params)\n",
    "    \n",
    "out = widgets.interactive_output(setParams,{'s_egg':s_egg,'s_0':s_0,'s_1':s_1,'s_2':s_2,'Smax':Smax,\n",
    "                                             'g0':g0,'m0':m0,'alpha':alpha,'c_0':c_0,'f_2':f_2})\n",
    "display(ui3,out)\n"
   ]
  },
  {
   "cell_type": "code",
   "execution_count": 2,
   "id": "b7a686bc-3a9e-4283-8356-c05faded9d43",
   "metadata": {
    "tags": []
   },
   "outputs": [],
   "source": [
    "# Create a class and global instances for morphology parameters\n",
    "global surf_pars, incl1_pars, incl2_pars\n",
    "class CEpars():\n",
    "    \"\"\"\n",
    "    A simple class to facilitate acquiring and passing chimera ellipsoid\n",
    "    parameters with interactive_output widgets.\n",
    "    \"\"\"\n",
    "    def __init__(self,a=50.e-6,b0=100.e-6,b1=-40.e-6,d=6e-6,nlevel0=16,nlevel1=12,\n",
    "                      translate0=0.,translate1=0.,translate2=0.):\n",
    "        self.a = a\n",
    "        self.bs = [b0,b1]\n",
    "        self.d = d\n",
    "        self.nlevels = [nlevel0,nlevel1]\n",
    "        self.translate = [translate0,translate1,translate2]\n",
    "\n",
    "def set_surf_pars(a,b0,b1,d,nlevel0,nlevel1):\n",
    "    global surf_pars\n",
    "    surf_pars=CEpars(a=a,b0=b0,b1=b1,d=d,nlevel0=nlevel0,nlevel1=nlevel1)\n",
    "\n",
    "def set_incl1_pars(a,b0,b1,d,nlevel0,nlevel1,translate0,translate1,translate2):\n",
    "    global incl1_pars\n",
    "    incl1_pars=CEpars(a=a,b0=b0,b1=b1,d=d,nlevel0=nlevel0,nlevel1=nlevel1,\n",
    "                      translate0=translate0,translate1=translate1,translate2=translate2)\n",
    "\n",
    "def set_incl2_pars(a,b0,b1,d,nlevel0,nlevel1,translate0,translate1,translate2):\n",
    "    global incl2_pars\n",
    "    incl2_pars=CEpars(a=a,b0=b0,b1=b1,d=d,nlevel0=nlevel0,nlevel1=nlevel1,\n",
    "                      translate0=translate0,translate1=translate1,translate2=translate2)"
   ]
  },
  {
   "cell_type": "code",
   "execution_count": 3,
   "id": "753dce3c-de12-4be4-90f8-b4e35f1ce513",
   "metadata": {
    "tags": []
   },
   "outputs": [
    {
     "data": {
      "application/vnd.jupyter.widget-view+json": {
       "model_id": "1a137a1cb790494a997bb400f85df584",
       "version_major": 2,
       "version_minor": 0
      },
      "text/plain": [
       "HBox(children=(VBox(children=(FloatText(value=5e-05, description='$a$'), FloatText(value=6e-06, description='$…"
      ]
     },
     "metadata": {},
     "output_type": "display_data"
    },
    {
     "data": {
      "application/vnd.jupyter.widget-view+json": {
       "model_id": "293e2c84ccd640a5830148f746997b9d",
       "version_major": 2,
       "version_minor": 0
      },
      "text/plain": [
       "Output()"
      ]
     },
     "metadata": {},
     "output_type": "display_data"
    }
   ],
   "source": [
    "# Set parameters for surface chimera\n",
    "surf_a=widgets.FloatText(value=50.e-6,width=10,description = r\"$a$\")\n",
    "surf_d=widgets.FloatText(value=6.e-6,description = r\"$d$\")\n",
    "surf_b0=widgets.FloatText(value=100.e-6,description = r\"$b_0$\")\n",
    "surf_nlevel0=widgets.IntText(value=16,description = r\"$n_0$\")\n",
    "surf_b1=widgets.FloatText(value=-40.e-6,description = r\"$b_1$\")\n",
    "surf_nlevel1=widgets.IntText(value=12,description = r\"$n_1$\")\n",
    "\n",
    "ui0 = widgets.VBox([surf_a,surf_d])\n",
    "ui1 = widgets.VBox([surf_b0,surf_nlevel0])\n",
    "ui2 = widgets.VBox([surf_b1,surf_nlevel1])\n",
    "ui012 = widgets.HBox([ui0,ui1,ui2])\n",
    "\n",
    "\n",
    "out = widgets.interactive_output(set_surf_pars,{'a':surf_a,'b0':surf_b0,'b1':surf_b1,'d':surf_d,\n",
    "                                                'nlevel0':surf_nlevel0,'nlevel1':surf_nlevel1})\n",
    "display(ui012,out)"
   ]
  },
  {
   "cell_type": "code",
   "execution_count": 7,
   "id": "2f3b9f1a-6a70-4ccf-91a0-ebaceae2036b",
   "metadata": {
    "tags": []
   },
   "outputs": [
    {
     "name": "stdout",
     "output_type": "stream",
     "text": [
      "[0.0001, -4e-05]\n",
      "8e-05\n"
     ]
    }
   ],
   "source": [
    "print(surf_pars.bs)\n",
    "print(surf_pars.a)"
   ]
  },
  {
   "cell_type": "code",
   "execution_count": 8,
   "id": "d27d466a-6f26-4813-94ea-82c404a970a5",
   "metadata": {
    "tags": []
   },
   "outputs": [],
   "source": [
    "surf_pars.a=0.0003"
   ]
  },
  {
   "cell_type": "code",
   "execution_count": 4,
   "id": "5033eda4-608f-43cd-9bd9-4c7c65d34d14",
   "metadata": {
    "tags": []
   },
   "outputs": [
    {
     "data": {
      "application/vnd.jupyter.widget-view+json": {
       "model_id": "0efccb6957a24ddda64de6bec1262448",
       "version_major": 2,
       "version_minor": 0
      },
      "text/plain": [
       "HBox(children=(VBox(children=(FloatText(value=3e-05, description='$a$'), FloatText(value=5e-06, description='$…"
      ]
     },
     "metadata": {},
     "output_type": "display_data"
    },
    {
     "data": {
      "application/vnd.jupyter.widget-view+json": {
       "model_id": "aa5d55d5ad48462da2e64ed75f9b5556",
       "version_major": 2,
       "version_minor": 0
      },
      "text/plain": [
       "Output()"
      ]
     },
     "metadata": {},
     "output_type": "display_data"
    }
   ],
   "source": [
    "# Set parameters for first inclusion chimera\n",
    "incl1_a=widgets.FloatText(value=30.e-6,width=10,description = r\"$a$\")\n",
    "incl1_d=widgets.FloatText(value=5.e-6,description = r\"$d$\")\n",
    "incl1_b0=widgets.FloatText(value=50.e-6,description = r\"$b_0$\")\n",
    "incl1_nlevel0=widgets.IntText(value=12,description = r\"$n_0$\")\n",
    "incl1_b1=widgets.FloatText(value=-20.e-6,description = r\"$b_1$\")\n",
    "incl1_nlevel1=widgets.IntText(value=8,description = r\"$n_1$\")\n",
    "incl1_translate0=widgets.FloatText(value=0.,description = r\"$x$ offset\")\n",
    "incl1_translate1=widgets.FloatText(value=0.,description = r\"$y$ offset\")\n",
    "incl1_translate2=widgets.FloatText(value=40.e-6,description = r\"$z$ offset\")\n",
    "\n",
    "#translate=[0.,0.,40.e-6]\n",
    "\n",
    "ui0i = widgets.VBox([incl1_a,incl1_d,incl1_translate0])\n",
    "ui1i = widgets.VBox([incl1_b0,incl1_nlevel0,incl1_translate1])\n",
    "ui2i = widgets.VBox([incl1_b1,incl1_nlevel1,incl1_translate2])\n",
    "ui012i = widgets.HBox([ui0i,ui1i,ui2i])\n",
    "\n",
    "\n",
    "outi = widgets.interactive_output(set_incl1_pars,{'a':incl1_a,'b0':incl1_b0,'b1':incl1_b1,'d':incl1_d,\n",
    "                                                'nlevel0':incl1_nlevel0,'nlevel1':incl1_nlevel1,\n",
    "                                                'translate0':incl1_translate0,\n",
    "                                                'translate1':incl1_translate1,\n",
    "                                                'translate2':incl1_translate2})\n",
    "display(ui012i,outi)"
   ]
  },
  {
   "cell_type": "code",
   "execution_count": 17,
   "id": "0f1ff957-e6a0-4cfa-9d4b-fda37ef85338",
   "metadata": {
    "tags": []
   },
   "outputs": [
    {
     "name": "stdout",
     "output_type": "stream",
     "text": [
      "[0.0001, -4e-05]\n",
      "5e-05\n",
      "[0.0, 0.0, 3e-05]\n"
     ]
    }
   ],
   "source": [
    "print(incl1_pars.bs)\n",
    "print(incl1_pars.a)\n",
    "print(incl1_pars.translate)"
   ]
  },
  {
   "cell_type": "code",
   "execution_count": 5,
   "id": "a50e068c-a15f-4c6c-8158-02f2eb6119b5",
   "metadata": {
    "tags": []
   },
   "outputs": [
    {
     "name": "stdout",
     "output_type": "stream",
     "text": [
      "chimeraEllipsoid initialization complete...\n",
      "chimeraEllipsoid initialization complete...\n"
     ]
    }
   ],
   "source": [
    "CEsurf = chimeraEllipsoid(a=surf_pars.a,bs=surf_pars.bs,d=surf_pars.d,nlevels=surf_pars.nlevels)\n",
    "CEincl = chimeraEllipsoid(a=incl1_pars.a,bs=incl1_pars.bs,d=incl1_pars.d,nlevels=incl1_pars.nlevels,translate=incl1_pars.translate)"
   ]
  },
  {
   "cell_type": "code",
   "execution_count": 6,
   "id": "5e413262-a834-4bae-a562-5e19fc9768e4",
   "metadata": {
    "tags": []
   },
   "outputs": [
    {
     "name": "stdout",
     "output_type": "stream",
     "text": [
      "[[[ 5.00000000e-05  0.00000000e+00  4.00000000e-05]\n",
      "  [ 4.96856105e-05  5.59822381e-06  4.00000000e-05]\n",
      "  [ 4.97260948e-05  0.00000000e+00  5.04528463e-05]]\n",
      "\n",
      " [[ 4.96856105e-05  5.59822381e-06  4.00000000e-05]\n",
      "  [ 4.87463956e-05  1.11260467e-05  4.00000000e-05]\n",
      "  [ 4.94134275e-05  5.56755615e-06  5.04528463e-05]]\n",
      "\n",
      " [[ 4.87463956e-05  1.11260467e-05  4.00000000e-05]\n",
      "  [ 4.71941665e-05  1.65139531e-05  4.00000000e-05]\n",
      "  [ 4.84793578e-05  1.10650970e-05  5.04528463e-05]]\n",
      "\n",
      " ...\n",
      "\n",
      " [[-5.39071909e-06 -1.30143471e-05  1.62028106e-06]\n",
      "  [-9.96075007e-06 -9.96075007e-06  1.62028106e-06]\n",
      "  [-5.03158936e-06 -5.03158936e-06  4.07142325e-07]]\n",
      "\n",
      " [[ 0.00000000e+00 -7.11574191e-06  4.07142325e-07]\n",
      "  [-5.39071909e-06 -1.30143471e-05  1.62028106e-06]\n",
      "  [-5.03158936e-06 -5.03158936e-06  4.07142325e-07]]\n",
      "\n",
      " [[ 0.00000000e+00 -7.11574191e-06  4.07142325e-07]\n",
      "  [-5.03158936e-06 -5.03158936e-06  4.07142325e-07]\n",
      "  [ 0.00000000e+00  0.00000000e+00  0.00000000e+00]]]\n"
     ]
    }
   ],
   "source": [
    "print(CEincl.vectors)"
   ]
  },
  {
   "cell_type": "code",
   "execution_count": 6,
   "id": "3d6e3b49-f4a2-45fd-a6e9-aa0b3e02e134",
   "metadata": {
    "tags": []
   },
   "outputs": [
    {
     "name": "stdout",
     "output_type": "stream",
     "text": [
      "Created Medium object with parameters:\n",
      "AttrDict({'density': 1030.0, 'material': 'seawater', 'immersed_in': False, 'contains': [], 'scale_factor': 1, 'offset': array([0, 0, 0]), 'rotate': array([0, 0, 0, 0]), 'layer_type': 'medium', 'transformations': [], 'stlfile': None, 'nu': 1.17e-06, 'mu': 0.0012051})\n",
      "Created Surface object with parameters:\n",
      "AttrDict({'density': 1070.0, 'material': 'tissue', 'immersed_in': 0, 'contains': [], 'scale_factor': 1, 'offset': array([0, 0, 0]), 'rotate': array([0, 0, 0, 0]), 'layer_type': 'surface', 'transformations': [], 'stlfile': None, 'total_area': 4.036756213581691e-08, 'total_volume': 7.282630427561315e-13, 'volume_center': array([ 2.90713553e-21, -7.19504260e-22,  2.24745998e-05]), 'tetra_project': 0.03, 'tetra_project_min': 1e-08})\n",
      "Getting control and singularity points...\n",
      "Added surface to layers list:\n",
      "Layer -1 of type <class 'pyVRS.pyVRSmorph.Surface'>\n",
      "AttrDict({'density': 1070.0, 'material': 'tissue', 'immersed_in': 0, 'contains': [], 'scale_factor': 1, 'offset': array([0, 0, 0]), 'rotate': array([0, 0, 0, 0]), 'layer_type': 'surface', 'transformations': [], 'stlfile': None, 'total_area': 4.036756213581691e-08, 'total_volume': 7.282630427561315e-13, 'volume_center': array([ 2.90713553e-21, -7.19504260e-22,  2.24745998e-05]), 'tetra_project': 0.03, 'tetra_project_min': 1e-08})\n",
      "Created Inclusion object with parameters:\n",
      "AttrDict({'density': 900.0, 'material': 'lipid', 'immersed_in': 1, 'contains': [], 'scale_factor': 1, 'offset': array([0, 0, 0]), 'rotate': array([0, 0, 0, 0]), 'layer_type': 'inclusion', 'transformations': [], 'stlfile': None, 'total_area': 1.2644237482155893e-08, 'total_volume': 1.3011242006807257e-13, 'volume_center': array([-4.17391660e-22,  5.23636810e-22,  5.12279514e-05])})\n",
      "Adding new layer to container...\n",
      "Added inclusion 2 to layers list...\n"
     ]
    }
   ],
   "source": [
    "M = mrph.Morphology()\n",
    "M.check_normals = False\n",
    "M.gen_surface(vectors=CEsurf.vectors)\n",
    "M.gen_inclusion(vectors=CEincl.vectors,material='lipid',immersed_in=1)"
   ]
  },
  {
   "cell_type": "code",
   "execution_count": 7,
   "id": "1f2282e6-6caa-476a-b25c-fea40064596d",
   "metadata": {
    "tags": []
   },
   "outputs": [],
   "source": [
    "figure = pyplot.figure()\n",
    "axes = figure.add_subplot(projection='3d')\n",
    "M.plot_layers(axes=axes)"
   ]
  },
  {
   "cell_type": "code",
   "execution_count": 8,
   "id": "9bfec837-3973-426c-bc45-58be46ae1b11",
   "metadata": {
    "tags": []
   },
   "outputs": [
    {
     "name": "stdout",
     "output_type": "stream",
     "text": [
      "Layer 0 of type <class 'pyVRS.pyVRSmorph.Medium'>\n",
      "Layer 1 of type <class 'pyVRS.pyVRSmorph.Surface'>\n",
      "F_buoyancy =  7.3585882629207806e-09\n",
      "C_buoyancy =  [ 2.90713553e-21 -7.19504260e-22  2.24745998e-05]\n",
      "List of all inclusions is:  [2]\n",
      "F_gravity =  -7.427370197950762e-09\n",
      "C_gravity =  [ 3.00426063e-21 -7.55822269e-22  2.16345790e-05]\n",
      "Layer 2 of type <class 'pyVRS.pyVRSmorph.Inclusion'>\n",
      "Assembling influence matrix\n",
      "Calculating inverse...\n",
      "Done calculating inverse.\n"
     ]
    }
   ],
   "source": [
    "M.body_calcs()\n",
    "M.flow_calcs(surface_layer=1)"
   ]
  },
  {
   "cell_type": "code",
   "execution_count": 81,
   "id": "5c868e3f-4ce1-48af-98b7-733420befd24",
   "metadata": {
    "tags": []
   },
   "outputs": [
    {
     "name": "stdout",
     "output_type": "stream",
     "text": [
      "Simulation parameters class defined...\n"
     ]
    }
   ],
   "source": [
    "# Create a class and global instances for simulation parameters\n",
    "global sim_pars\n",
    "class SimPars():\n",
    "    \"\"\"\n",
    "    A simple class to facilitate acquiring and passing VRS simulation\n",
    "    parameters with interactive_output widgets.\n",
    "    \"\"\"\n",
    "    def __init__(self,dudz=0.,dvdz=0.,dwdx=0.,U0=0.,U1=0.,U2=0.,\n",
    "                 Tmax=20.,cil_speed=0.5*1000*1e-6,\n",
    "                 phi=pi/3.,theta=-pi/4.,psi=pi):\n",
    "        self.dudz = dudz\n",
    "        self.dvdz = dvdz\n",
    "        self.dwdx = dwdx\n",
    "        self.U0 = U0\n",
    "        self.U1 = U1\n",
    "        self.U2 = U2\n",
    "        self.Tmax = Tmax\n",
    "        self.cil_speed = cil_speed\n",
    "        self.S_fixed = np.asarray([0.,0.,dudz,0.,0.,dvdz,dwdx,0.,0.])\n",
    "        self.U_const_fixed = np.asarray([U0,U1,U2])\n",
    "        self.XEinit = np.asarray([0.,0.,0.,phi,theta,psi])\n",
    "\n",
    "def set_sim_pars(dudz,dvdz,dwdx,Tmax,cil_speed,phi,theta,psi):\n",
    "    global sim_pars\n",
    "    sim_pars=SimPars(dudz=dudz,dvdz=dvdz,dwdx=dwdx,\n",
    "                 Tmax=Tmax,cil_speed=cil_speed,\n",
    "                 phi=phi,theta=theta,psi=psi)\n",
    "\n",
    "print('Simulation parameters class defined...')"
   ]
  },
  {
   "cell_type": "code",
   "execution_count": 82,
   "id": "466286c3-b4f2-430e-a300-dde7173de673",
   "metadata": {
    "tags": []
   },
   "outputs": [
    {
     "data": {
      "application/vnd.jupyter.widget-view+json": {
       "model_id": "11e0b83250b64a6d8e3f947c8a3106f8",
       "version_major": 2,
       "version_minor": 0
      },
      "text/plain": [
       "HBox(children=(VBox(children=(FloatText(value=0.0, description='$\\\\frac{dU}{dz}$'), FloatText(value=1.04719755…"
      ]
     },
     "metadata": {},
     "output_type": "display_data"
    },
    {
     "data": {
      "application/vnd.jupyter.widget-view+json": {
       "model_id": "91b5053b9681436ca03d635ca3421f82",
       "version_major": 2,
       "version_minor": 0
      },
      "text/plain": [
       "Output()"
      ]
     },
     "metadata": {},
     "output_type": "display_data"
    }
   ],
   "source": [
    "# Set parameters for first inclusion chimera\n",
    "spars_dudz=widgets.FloatText(value=0.,width=10,description = r\"$\\frac{dU}{dz}$\")\n",
    "spars_dvdz=widgets.FloatText(value=0.,description = r\"$\\frac{dV}{dz}$\")\n",
    "spars_dwdx=widgets.FloatText(value=0.,description = r\"$\\frac{dW}{dx}$\")\n",
    "spars_Tmax=widgets.FloatText(value=10,description = r\"$T_{max}$\")\n",
    "spars_cil_speed=widgets.FloatText(value=500.e-6,description = r\"$V_{cilia}$\")\n",
    "spars_phi=widgets.FloatText(value=pi/3.,description = r\"$phi$\")\n",
    "spars_theta=widgets.FloatText(value=pi/4.,description = r\"$\\theta$\")\n",
    "spars_psi=widgets.FloatText(value=pi,description = r\"$\\psi$\")\n",
    "\n",
    "#translate=[0.,0.,40.e-6]\n",
    "\n",
    "ui0s = widgets.VBox([spars_dudz,spars_phi,spars_Tmax])\n",
    "ui1s = widgets.VBox([spars_dvdz,spars_theta,spars_cil_speed])\n",
    "ui2s = widgets.VBox([spars_dwdx,spars_psi])\n",
    "ui012s = widgets.HBox([ui0s,ui1s,ui2s])\n",
    "\n",
    "\n",
    "outs = widgets.interactive_output(set_sim_pars,{'dudz':spars_dudz,'dvdz':spars_dvdz,'dwdx':spars_dwdx,'Tmax':spars_Tmax,\n",
    "                                                'cil_speed':spars_cil_speed,'phi':spars_phi,\n",
    "                                                'theta':spars_theta,\n",
    "                                                'psi':spars_psi})\n",
    "display(ui012s,outs)"
   ]
  },
  {
   "cell_type": "code",
   "execution_count": 109,
   "id": "d55054ed-a599-43ad-8ea1-65c39f8e0c75",
   "metadata": {
    "tags": []
   },
   "outputs": [
    {
     "data": {
      "application/vnd.jupyter.widget-view+json": {
       "model_id": "82ef5960060442309c26410c6547bd78",
       "version_major": 2,
       "version_minor": 0
      },
      "text/plain": [
       "HBox(children=(Button(description='Reset', style=ButtonStyle()), Output(), Button(description='Run', style=But…"
      ]
     },
     "metadata": {},
     "output_type": "display_data"
    }
   ],
   "source": [
    "global Sim\n",
    "button = widgets.Button(description=\"Reset\")\n",
    "output = widgets.Output()\n",
    "button2 = widgets.Button(description=\"Run\")\n",
    "output2 = widgets.Output()\n",
    "\n",
    "buttons = widgets.HBox([button, output, button2, output2])\n",
    "display(buttons)\n",
    "\n",
    "@output.capture()\n",
    "def on_button_clicked(b):\n",
    "    global Sim, sim_pars\n",
    "    Sim = flw.VRSsim(morph=M)\n",
    "\n",
    "@output2.capture()\n",
    "def on_button_clicked2(b):\n",
    "    global Sim,sim_pars\n",
    "    Sim.run(XEinit=sim_pars.XEinit,Tmax=sim_pars.Tmax,cil_speed=sim_pars.cil_speed,U_const_fixed=sim_pars.U_const_fixed,S_fixed=sim_pars.S_fixed)\n",
    "\n",
    "button.on_click(on_button_clicked)\n",
    "button2.on_click(on_button_clicked2)"
   ]
  },
  {
   "cell_type": "code",
   "execution_count": 110,
   "id": "9d925a41-ee00-4a66-b235-b628f335d45d",
   "metadata": {
    "tags": []
   },
   "outputs": [
    {
     "data": {
      "application/vnd.jupyter.widget-view+json": {
       "model_id": "c73f31e2b2364a63ae82ebbd362b6d33",
       "version_major": 2,
       "version_minor": 0
      },
      "text/plain": [
       "FileChooser(path='/home/dg/Desktop/test/subtest', filename='', title='', show_hidden=False, select_desc='Selec…"
      ]
     },
     "metadata": {},
     "output_type": "display_data"
    }
   ],
   "source": [
    "from ipyfilechooser import FileChooser\n",
    "\n",
    "# Create and display a FileChooser widget\n",
    "fc = FileChooser('/home/dg/Desktop/test/subtest')\n",
    "display(fc)\n",
    "\n",
    "# Print the selected path, filename, or both\n",
    "#print(fc.selected_path)\n",
    "#print(fc.selected_filename)\n",
    "#print(fc.selected)\n",
    "\n",
    "# Change defaults and reset the dialog\n",
    "#fc.default_path = '/home/dg/Desktop/test'\n",
    "fc.default_filename = 'ESfig.svg'\n",
    "fc.reset()\n",
    "\n",
    "# Shorthand reset\n",
    "#fc.reset(path='/Users/crahan/', filename='output.txt')\n",
    "\n",
    "# Restrict navigation to /Users\n",
    "#fc.sandbox_path = '/home/dg/Desktop/test'\n",
    "\n",
    "# Change hidden files\n",
    "fc.show_hidden = False #True\n",
    "\n",
    "# Customize dir icon\n",
    "#fc.dir_icon = '/home/dg/Desktop/test'\n",
    "fc.dir_icon = '/'\n",
    "fc.dir_icon_append = True\n",
    "\n",
    "# Switch to folder-only mode\n",
    "#fc.show_only_dirs = True\n",
    "\n",
    "# Set multiple file filter patterns (uses https://docs.python.org/3/library/fnmatch.html)\n",
    "fc.filter_pattern = ['*.jpg', '*.png','*.svg']\n",
    "\n",
    "# Change the title (use '' to hide)\n",
    "fc.title = '<b>Save Figure</b>'\n",
    "\n",
    "# Sample callback function\n",
    "def change_title(chooser):\n",
    "    #chooser.title = '<b>Callback function executed</b>'\n",
    "    #print(dir(chooser))\n",
    "    Sim.fig.savefig(chooser.selected,format='svg',dpi=800)\n",
    "    \n",
    "\n",
    "# Register callback function\n",
    "fc.register_callback(change_title)\n"
   ]
  },
  {
   "cell_type": "code",
   "execution_count": null,
   "id": "9871313d-3162-477a-a905-b4107c58463e",
   "metadata": {},
   "outputs": [],
   "source": []
  },
  {
   "cell_type": "code",
   "execution_count": null,
   "id": "39e343aa-3019-4382-8d4c-8d96f82ffed3",
   "metadata": {},
   "outputs": [],
   "source": []
  }
 ],
 "metadata": {
  "kernelspec": {
   "display_name": "Python 3 (ipykernel)",
   "language": "python",
   "name": "python3"
  },
  "language_info": {
   "codemirror_mode": {
    "name": "ipython",
    "version": 3
   },
   "file_extension": ".py",
   "mimetype": "text/x-python",
   "name": "python",
   "nbconvert_exporter": "python",
   "pygments_lexer": "ipython3",
   "version": "3.10.10"
  }
 },
 "nbformat": 4,
 "nbformat_minor": 5
}
