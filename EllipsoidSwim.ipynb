{
 "cells": [
  {
   "cell_type": "markdown",
   "id": "b2ae7595-1ecc-4a7c-8d0b-7aee1053ac9b",
   "metadata": {},
   "source": [
    "# Swimming of early larval stages in still water and shear \n",
    "This is a graphical interface for using the pyVRS (Python Volume-Rendered Swimmer) model of low-Reynolds number hydrodynamics. It has a simplified interface for entering parameters to investigate stability and movement of early-stage larval morphologies approximated by \"chimeras\" of semi-ellipsoids. These early larval shapes are constructed by joining two half-ellipsoids about a common central radius. \n",
    "\n",
    "By choosing different ellipsoid shapes (larger vs. smaller central radii; longer vs. shorter semi-ellipsoids, etc.) you can construct different surface shapes that resemble the outside surfaces and tissue densities of early stages in larval development. You can also add inclusions, constructed from two half-ellipsoids, and assign them different densities to model the effects of internal volumes filled with seawater, calcium carbonate, lipid, or other materials.\n",
    "\n",
    "The resulting shapes do not represent any particular species and stage exactly, but they approximate eggs, gastrulae and blastulae from a wide diversity of species and stages. This makes them good tools for exploring the consequences of size, morphological and physiological features, and properties of the fluid environment such as shear."
   ]
  },
  {
   "cell_type": "code",
   "execution_count": 1,
   "id": "dfa5777c-6244-4f4a-936f-b8a370d2d20a",
   "metadata": {
    "jupyter": {
     "source_hidden": true
    },
    "tags": []
   },
   "outputs": [
    {
     "name": "stdout",
     "output_type": "stream",
     "text": [
      "Using matplotlib backend: <object object at 0x7ffb74226b80>\n"
     ]
    }
   ],
   "source": [
    "# Set up graphics environment\n",
    "%matplotlib\n",
    "from mpl_toolkits import mplot3d\n",
    "from matplotlib import pyplot\n",
    "from matplotlib.colors import LightSource\n",
    "pyplot.ioff()\n",
    "# Import modules\n",
    "import numpy as np\n",
    "from math import pi\n",
    "import os\n",
    "import EllipsoidSwim.pyVRSmorph as mrph\n",
    "import EllipsoidSwim.pyVRSflow as flw\n",
    "from pyVRS.meshEllipsoid import chimeraEllipsoid\n",
    "# Import widget infrastructure\n",
    "from ipywidgets import interact, interactive, fixed, interact_manual\n",
    "import ipywidgets as widgets\n",
    "from IPython import display as idisplay"
   ]
  },
  {
   "cell_type": "code",
   "execution_count": 2,
   "id": "b7a686bc-3a9e-4283-8356-c05faded9d43",
   "metadata": {
    "jupyter": {
     "source_hidden": true
    },
    "tags": []
   },
   "outputs": [],
   "source": [
    "# Create a class and global instances for morphology parameters\n",
    "global surf_pars, incl1_pars, incl2_pars\n",
    "class CEpars():\n",
    "    \"\"\"\n",
    "    A simple class to facilitate acquiring and passing chimera ellipsoid\n",
    "    parameters with interactive_output widgets.\n",
    "    \"\"\"\n",
    "    def __init__(self,a=50.e-6,b0=100.e-6,b1=-40.e-6,d=6e-6,nlevel0=16,nlevel1=12,\n",
    "                      translate0=0.,translate1=0.,translate2=0.):\n",
    "        self.a = a\n",
    "        self.bs = [b0,b1]\n",
    "        self.d = d\n",
    "        self.nlevels = [nlevel0,nlevel1]\n",
    "        self.translate = [translate0,translate1,translate2]\n",
    "\n",
    "def set_surf_pars(a,b0,b1,d,nlevel0,nlevel1):\n",
    "    global surf_pars\n",
    "    surf_pars=CEpars(a=a,b0=b0,b1=b1,d=d,nlevel0=nlevel0,nlevel1=nlevel1)\n",
    "\n",
    "def set_incl1_pars(a,b0,b1,d,nlevel0,nlevel1,translate0,translate1,translate2):\n",
    "    global incl1_pars\n",
    "    incl1_pars=CEpars(a=a,b0=b0,b1=b1,d=d,nlevel0=nlevel0,nlevel1=nlevel1,\n",
    "                      translate0=translate0,translate1=translate1,translate2=translate2)\n",
    "\n",
    "def set_incl2_pars(a,b0,b1,d,nlevel0,nlevel1,translate0,translate1,translate2):\n",
    "    global incl2_pars\n",
    "    incl2_pars=CEpars(a=a,b0=b0,b1=b1,d=d,nlevel0=nlevel0,nlevel1=nlevel1,\n",
    "                      translate0=translate0,translate1=translate1,translate2=translate2)"
   ]
  },
  {
   "cell_type": "code",
   "execution_count": 3,
   "id": "5c868e3f-4ce1-48af-98b7-733420befd24",
   "metadata": {
    "jupyter": {
     "source_hidden": true
    },
    "tags": []
   },
   "outputs": [
    {
     "name": "stdout",
     "output_type": "stream",
     "text": [
      "Simulation parameters class defined...\n"
     ]
    }
   ],
   "source": [
    "# Create a class and global instances for simulation parameters\n",
    "global sim_pars\n",
    "class SimPars():\n",
    "    \"\"\"\n",
    "    A simple class to facilitate acquiring and passing VRS simulation\n",
    "    parameters with interactive_output widgets.\n",
    "    \"\"\"\n",
    "    def __init__(self,dudz=0.,dvdz=0.,dwdx=0.,U0=0.,U1=0.,U2=0.,\n",
    "                 Tmax=20.,cil_speed=0.5*1000*1e-6,\n",
    "                 phi=pi/3.,theta=-pi/4.,psi=pi):\n",
    "        self.dudz = dudz\n",
    "        self.dvdz = dvdz\n",
    "        self.dwdx = dwdx\n",
    "        self.U0 = U0\n",
    "        self.U1 = U1\n",
    "        self.U2 = U2\n",
    "        self.Tmax = Tmax\n",
    "        self.cil_speed = cil_speed\n",
    "        self.S_fixed = np.asarray([0.,0.,dudz,0.,0.,dvdz,dwdx,0.,0.])\n",
    "        self.U_const_fixed = np.asarray([U0,U1,U2])\n",
    "        self.XEinit = np.asarray([0.,0.,0.,phi,theta,psi])\n",
    "\n",
    "def set_sim_pars(dudz,dvdz,dwdx,Tmax,cil_speed,phi,theta,psi):\n",
    "    global sim_pars\n",
    "    sim_pars=SimPars(dudz=dudz,dvdz=dvdz,dwdx=dwdx,\n",
    "                 Tmax=Tmax,cil_speed=cil_speed,\n",
    "                 phi=phi,theta=theta,psi=psi)\n",
    "\n",
    "print('Simulation parameters class defined...')"
   ]
  },
  {
   "cell_type": "markdown",
   "id": "1c5dab78-a70f-418e-9e1a-e57cd5939e30",
   "metadata": {},
   "source": [
    "## Define the outer larval shape \n",
    "The text boxes below enable you to set the shape parameters for the outside of a model larva. To change parameters, enter a new value and hit \\<enter\\>.\n",
    "The parameters are:\n",
    "- $a$: central radius\n",
    "- $b_0$: length of the top semi-ellipse\n",
    "- $b_1$: length of the bottom semi-ellipse (a negative number, because this semi-ellipse points downwards)\n",
    "- $d$, a parameter specifying the number of columns of triangles on the top and bottom parts of the larval surface \n",
    "- $n_0$ and $n_1$ specify the number of rows of triangles on the top and bottom parts of the larval surface\n"
   ]
  },
  {
   "cell_type": "code",
   "execution_count": 4,
   "id": "753dce3c-de12-4be4-90f8-b4e35f1ce513",
   "metadata": {
    "jupyter": {
     "source_hidden": true
    },
    "tags": []
   },
   "outputs": [
    {
     "data": {
      "application/vnd.jupyter.widget-view+json": {
       "model_id": "1429f64c601c4f69ae63a3f7d239f404",
       "version_major": 2,
       "version_minor": 0
      },
      "text/plain": [
       "HBox(children=(VBox(children=(FloatText(value=5e-05, description='$a$'), FloatText(value=6e-06, description='$…"
      ]
     },
     "metadata": {},
     "output_type": "display_data"
    },
    {
     "data": {
      "application/vnd.jupyter.widget-view+json": {
       "model_id": "2670a3d247ac440b999c82f0035facba",
       "version_major": 2,
       "version_minor": 0
      },
      "text/plain": [
       "Output()"
      ]
     },
     "metadata": {},
     "output_type": "display_data"
    }
   ],
   "source": [
    "# Set parameters for surface chimera\n",
    "surf_a=widgets.FloatText(value=50.e-6,width=10,description = r\"$a$\")\n",
    "surf_d=widgets.FloatText(value=6.e-6,description = r\"$d$\")\n",
    "surf_b0=widgets.FloatText(value=100.e-6,description = r\"$b_0$\")\n",
    "surf_nlevel0=widgets.IntText(value=16,description = r\"$n_0$\")\n",
    "surf_b1=widgets.FloatText(value=-40.e-6,description = r\"$b_1$\")\n",
    "surf_nlevel1=widgets.IntText(value=12,description = r\"$n_1$\")\n",
    "\n",
    "ui0 = widgets.VBox([surf_a,surf_d])\n",
    "ui1 = widgets.VBox([surf_b0,surf_nlevel0])\n",
    "ui2 = widgets.VBox([surf_b1,surf_nlevel1])\n",
    "ui012 = widgets.HBox([ui0,ui1,ui2])\n",
    "\n",
    "#sample_html = '<html><body><h3>Hello World</h3><h4>Hello World</h4><h5>Hello World</h5><h6>Hello World</h6></body></html>'\n",
    "#q = idisplay.HTML(data=sample_html)\n",
    "\n",
    "#sample_html = '<html><body><h3>Hello World</h3><h4>Hello World</h4><h5>Hello World</h5><h6>Hello World</h6></body></html>'\n",
    "#q = idisplay.HTML(data=sample_html)\n",
    "\n",
    "out = widgets.interactive_output(set_surf_pars,{'a':surf_a,'b0':surf_b0,'b1':surf_b1,'d':surf_d,\n",
    "                                                'nlevel0':surf_nlevel0,'nlevel1':surf_nlevel1})\n",
    "display(ui012,out)"
   ]
  },
  {
   "cell_type": "markdown",
   "id": "21c8df6b-aac0-47f4-a950-c9164d7dcd9c",
   "metadata": {},
   "source": [
    "## Define an inclusion \n",
    "The text boxes below enable you to set the shape parameters for inclusions inside a model larva. The parameters have the same interpretations as for the outer shape:\n",
    "- $a$: central radius\n",
    "- $b_0$: length of the top semi-ellipse\n",
    "- $b_1$: length of the bottom semi-ellipse (a negative number, because this semi-ellipse points downwards)\n",
    "- $d$, a parameter specifying the number of columns of triangles on the top and bottom parts of the larval surface \n",
    "- $n_0$ and $n_1$ specify the number of rows of triangles on the top and bottom parts of the larval surface\n",
    "\n",
    "Make sure the surface do not intersect (that is, the inclusion is entirely within the outer surface, etc.)!"
   ]
  },
  {
   "cell_type": "code",
   "execution_count": 5,
   "id": "5033eda4-608f-43cd-9bd9-4c7c65d34d14",
   "metadata": {
    "jupyter": {
     "source_hidden": true
    },
    "tags": []
   },
   "outputs": [
    {
     "data": {
      "application/vnd.jupyter.widget-view+json": {
       "model_id": "eab830dda4aa4dd581ff9a99a5381539",
       "version_major": 2,
       "version_minor": 0
      },
      "text/plain": [
       "HBox(children=(VBox(children=(FloatText(value=3e-05, description='$a$'), FloatText(value=5e-06, description='$…"
      ]
     },
     "metadata": {},
     "output_type": "display_data"
    },
    {
     "data": {
      "application/vnd.jupyter.widget-view+json": {
       "model_id": "e2700f7a44a8438cb7cac7ad3caff02d",
       "version_major": 2,
       "version_minor": 0
      },
      "text/plain": [
       "Output()"
      ]
     },
     "metadata": {},
     "output_type": "display_data"
    }
   ],
   "source": [
    "# Set parameters for first inclusion chimera\n",
    "incl1_a=widgets.FloatText(value=30.e-6,width=10,description = r\"$a$\")\n",
    "incl1_d=widgets.FloatText(value=5.e-6,description = r\"$d$\")\n",
    "incl1_b0=widgets.FloatText(value=50.e-6,description = r\"$b_0$\")\n",
    "incl1_nlevel0=widgets.IntText(value=12,description = r\"$n_0$\")\n",
    "incl1_b1=widgets.FloatText(value=-20.e-6,description = r\"$b_1$\")\n",
    "incl1_nlevel1=widgets.IntText(value=8,description = r\"$n_1$\")\n",
    "incl1_translate0=widgets.FloatText(value=0.,description = r\"$x$ offset\")\n",
    "incl1_translate1=widgets.FloatText(value=0.,description = r\"$y$ offset\")\n",
    "incl1_translate2=widgets.FloatText(value=40.e-6,description = r\"$z$ offset\")\n",
    "\n",
    "#translate=[0.,0.,40.e-6]\n",
    "\n",
    "ui0i = widgets.VBox([incl1_a,incl1_d,incl1_translate0])\n",
    "ui1i = widgets.VBox([incl1_b0,incl1_nlevel0,incl1_translate1])\n",
    "ui2i = widgets.VBox([incl1_b1,incl1_nlevel1,incl1_translate2])\n",
    "ui012i = widgets.HBox([ui0i,ui1i,ui2i])\n",
    "\n",
    "\n",
    "outi = widgets.interactive_output(set_incl1_pars,{'a':incl1_a,'b0':incl1_b0,'b1':incl1_b1,'d':incl1_d,\n",
    "                                                'nlevel0':incl1_nlevel0,'nlevel1':incl1_nlevel1,\n",
    "                                                'translate0':incl1_translate0,\n",
    "                                                'translate1':incl1_translate1,\n",
    "                                                'translate2':incl1_translate2})\n",
    "display(ui012i,outi)"
   ]
  },
  {
   "cell_type": "markdown",
   "id": "725da317-6ba6-4ec7-958c-3adc3a1ba4af",
   "metadata": {},
   "source": [
    "## Compute the larval shape\n",
    "Execute this code cell to plot out the shape of the larva specified by the parameters you entered in the input boxes above. If you're happy with the goemetry, proceed to the next step. If not, change the parameters and re-execute this cell again to display the new shape."
   ]
  },
  {
   "cell_type": "code",
   "execution_count": 6,
   "id": "a50e068c-a15f-4c6c-8158-02f2eb6119b5",
   "metadata": {
    "jupyter": {
     "source_hidden": true
    },
    "tags": []
   },
   "outputs": [
    {
     "name": "stdout",
     "output_type": "stream",
     "text": [
      "chimeraEllipsoid initialization complete...\n",
      "chimeraEllipsoid initialization complete...\n",
      "Created Medium object with parameters:\n",
      "AttrDict({'density': 1030.0, 'material': 'seawater', 'immersed_in': False, 'contains': [], 'scale_factor': 1, 'offset': array([0, 0, 0]), 'rotate': array([0, 0, 0, 0]), 'layer_type': 'medium', 'transformations': [], 'stlfile': None, 'nu': 1.17e-06, 'mu': 0.0012051})\n",
      "Created Surface object with parameters:\n",
      "AttrDict({'density': 1070.0, 'material': 'tissue', 'immersed_in': 0, 'contains': [], 'scale_factor': 1, 'offset': array([0, 0, 0]), 'rotate': array([0, 0, 0, 0]), 'layer_type': 'surface', 'transformations': [], 'stlfile': None, 'total_area': 4.036756213581691e-08, 'total_volume': 7.282630427561315e-13, 'volume_center': array([ 2.90713553e-21, -7.19504260e-22,  2.24745998e-05]), 'tetra_project': 0.03, 'tetra_project_min': 1e-08})\n",
      "Getting control and singularity points...\n",
      "Added surface to layers list:\n",
      "Layer -1 of type <class 'EllipsoidSwim.pyVRSmorph.Surface'>\n",
      "AttrDict({'density': 1070.0, 'material': 'tissue', 'immersed_in': 0, 'contains': [], 'scale_factor': 1, 'offset': array([0, 0, 0]), 'rotate': array([0, 0, 0, 0]), 'layer_type': 'surface', 'transformations': [], 'stlfile': None, 'total_area': 4.036756213581691e-08, 'total_volume': 7.282630427561315e-13, 'volume_center': array([ 2.90713553e-21, -7.19504260e-22,  2.24745998e-05]), 'tetra_project': 0.03, 'tetra_project_min': 1e-08})\n",
      "Created Inclusion object with parameters:\n",
      "AttrDict({'density': 1000.0, 'material': 'freshwater', 'immersed_in': 1, 'contains': [], 'scale_factor': 1, 'offset': array([0, 0, 0]), 'rotate': array([0, 0, 0, 0]), 'layer_type': 'inclusion', 'transformations': [], 'stlfile': None, 'total_area': 1.2644237482155893e-08, 'total_volume': 1.3011242006807257e-13, 'volume_center': array([-4.17391660e-22,  5.23636810e-22,  5.12279514e-05])})\n",
      "Adding new layer to container...\n",
      "Added inclusion 2 to layers list...\n"
     ]
    }
   ],
   "source": [
    "CEsurf = chimeraEllipsoid(a=surf_pars.a,bs=surf_pars.bs,d=surf_pars.d,nlevels=surf_pars.nlevels)\n",
    "CEincl = chimeraEllipsoid(a=incl1_pars.a,bs=incl1_pars.bs,d=incl1_pars.d,nlevels=incl1_pars.nlevels,translate=incl1_pars.translate)\n",
    "M = mrph.Morphology()\n",
    "M.check_normals = False\n",
    "M.gen_surface(vectors=CEsurf.vectors)\n",
    "# materials parameter can be 'seawater', 'tissue', 'lipid' or 'calcite' \n",
    "M.gen_inclusion(vectors=CEincl.vectors,material='freshwater',immersed_in=1)\n",
    "figure = pyplot.figure()\n",
    "axes = figure.add_subplot(projection='3d')\n",
    "M.plot_layers(axes=axes)"
   ]
  },
  {
   "cell_type": "markdown",
   "id": "3bdc919f-5385-4601-b115-5001618c13c2",
   "metadata": {},
   "source": [
    "## Compute the fluid forces\n",
    "Executing this cell will compute the fluid flow around the model larva. \n",
    "\n",
    "Depending on the number of triangle and the speed of your computer, it may take a few seconds to complete: \n",
    "- When it starts calculating, it prints out \"Calculating inverse...\". \n",
    "- When the calculation is complete, it prints out \"Done calculating inverse.\"\n",
    "\n",
    "**You need to run this just once for each larval shape. You do not need to rerun it unless you change the larval shape.**"
   ]
  },
  {
   "cell_type": "code",
   "execution_count": 7,
   "id": "3d6e3b49-f4a2-45fd-a6e9-aa0b3e02e134",
   "metadata": {
    "jupyter": {
     "source_hidden": true
    },
    "tags": []
   },
   "outputs": [
    {
     "name": "stdout",
     "output_type": "stream",
     "text": [
      "Layer 0 of type <class 'EllipsoidSwim.pyVRSmorph.Medium'>\n",
      "Layer 1 of type <class 'EllipsoidSwim.pyVRSmorph.Surface'>\n",
      "F_buoyancy =  7.3585882629207806e-09\n",
      "C_buoyancy =  [ 2.90713553e-21 -7.19504260e-22  2.24745998e-05]\n",
      "List of all inclusions is:  [2]\n",
      "F_gravity =  -7.55501048203754e-09\n",
      "C_gravity =  [ 2.94645255e-21 -7.34206082e-22  2.21345526e-05]\n",
      "Layer 2 of type <class 'EllipsoidSwim.pyVRSmorph.Inclusion'>\n",
      "Assembling influence matrix\n",
      "Calculating inverse...\n",
      "Done calculating inverse.\n"
     ]
    }
   ],
   "source": [
    "M.body_calcs()\n",
    "M.flow_calcs(surface_layer=1)"
   ]
  },
  {
   "cell_type": "markdown",
   "id": "74f0765e-78da-4e9e-81f2-1c2508e2aa05",
   "metadata": {
    "tags": []
   },
   "source": [
    "## Define simulation parameters\n",
    "This cell sets parameters for simulating how the larval shape swims under different flow conditions.\n",
    "\n",
    "The parameters are:\n",
    "- $\\frac{dU}{dz}$: change of horizontal velocity ($U$) across depth ($z$)\n",
    "- $\\frac{dV}{dz}$: change of horizontal velocity ($V$) across depth ($z$)\n",
    "- $\\frac{dW}{dx}$: change of vertical velocity ($W$) in the $x$ direction\n",
    "- $\\phi$, $\\theta$, $\\psi$: initial Euler angle\n",
    "- $T_{max}$: duration of time to simulate\n",
    "- $V_{cilia}$: velocity of cilia on the larval surface (red: maximum speed; blue: 0 speed)"
   ]
  },
  {
   "cell_type": "code",
   "execution_count": 8,
   "id": "466286c3-b4f2-430e-a300-dde7173de673",
   "metadata": {
    "jupyter": {
     "source_hidden": true
    },
    "tags": []
   },
   "outputs": [
    {
     "data": {
      "application/vnd.jupyter.widget-view+json": {
       "model_id": "b33a67eeb2634d7f959078f6794fdf71",
       "version_major": 2,
       "version_minor": 0
      },
      "text/plain": [
       "HBox(children=(VBox(children=(FloatText(value=0.0, description='$\\\\frac{dU}{dz}$'), FloatText(value=1.04719755…"
      ]
     },
     "metadata": {},
     "output_type": "display_data"
    },
    {
     "data": {
      "application/vnd.jupyter.widget-view+json": {
       "model_id": "951ecfe4b0e14e3898435fd0cf2da6d3",
       "version_major": 2,
       "version_minor": 0
      },
      "text/plain": [
       "Output()"
      ]
     },
     "metadata": {},
     "output_type": "display_data"
    }
   ],
   "source": [
    "# Set simulation parameters\n",
    "spars_dudz=widgets.FloatText(value=0.,width=10,description = r\"$\\frac{dU}{dz}$\")\n",
    "spars_dvdz=widgets.FloatText(value=0.,description = r\"$\\frac{dV}{dz}$\")\n",
    "spars_dwdx=widgets.FloatText(value=0.,description = r\"$\\frac{dW}{dx}$\")\n",
    "spars_Tmax=widgets.FloatText(value=10,description = r\"$T_{max}$\")\n",
    "spars_cil_speed=widgets.FloatText(value=500.e-6,description = r\"$V_{cilia}$\")\n",
    "spars_phi=widgets.FloatText(value=pi/3.,description = r\"$\\phi$\")\n",
    "spars_theta=widgets.FloatText(value=pi/4.,description = r\"$\\theta$\")\n",
    "spars_psi=widgets.FloatText(value=pi,description = r\"$\\psi$\")\n",
    "\n",
    "#translate=[0.,0.,40.e-6]\n",
    "\n",
    "ui0s = widgets.VBox([spars_dudz,spars_phi,spars_Tmax])\n",
    "ui1s = widgets.VBox([spars_dvdz,spars_theta,spars_cil_speed])\n",
    "ui2s = widgets.VBox([spars_dwdx,spars_psi])\n",
    "ui012s = widgets.HBox([ui0s,ui1s,ui2s])\n",
    "\n",
    "\n",
    "outs = widgets.interactive_output(set_sim_pars,{'dudz':spars_dudz,'dvdz':spars_dvdz,'dwdx':spars_dwdx,'Tmax':spars_Tmax,\n",
    "                                                'cil_speed':spars_cil_speed,'phi':spars_phi,\n",
    "                                                'theta':spars_theta,\n",
    "                                                'psi':spars_psi})\n",
    "display(ui012s,outs)"
   ]
  },
  {
   "cell_type": "markdown",
   "id": "1d3c5907-80c1-484d-a58a-698fc7c04cf6",
   "metadata": {},
   "source": [
    "## Run the simulation\n",
    "Hit the **reset** button to create a new simulation window. \n",
    "\n",
    "Hit **run** to simulate swimming of the larval shape you defined using the flow parameters you defined.\n",
    "\n",
    "In this window, the left hand side plot shows the trajectory of the larva (blue lines), starting at the position (0,0,0) which is marked with a red dot. The simulated time, and the larval position and velocity are given at the top of the plot.\n",
    "\n",
    "The right hand side plot shows the orientation of the larval shape. The Euler angles specifying the larva's orientation are given at the top of the plot.\n",
    "\n",
    "The simulation will plot multiple trajectories in the same plot, to make it easy to compare the effects of different shear rates. You can save the plot using the disk icon at the top of the simulation window. "
   ]
  },
  {
   "cell_type": "code",
   "execution_count": 9,
   "id": "d55054ed-a599-43ad-8ea1-65c39f8e0c75",
   "metadata": {
    "jupyter": {
     "source_hidden": true
    },
    "tags": []
   },
   "outputs": [
    {
     "data": {
      "application/vnd.jupyter.widget-view+json": {
       "model_id": "2a86107fd7b347cfb78b880d4e9eb0e7",
       "version_major": 2,
       "version_minor": 0
      },
      "text/plain": [
       "HBox(children=(Button(description='Reset', style=ButtonStyle()), Output(), Button(description='Run', style=But…"
      ]
     },
     "metadata": {},
     "output_type": "display_data"
    }
   ],
   "source": [
    "global Sim\n",
    "button = widgets.Button(description=\"Reset\")\n",
    "output = widgets.Output()\n",
    "button2 = widgets.Button(description=\"Run\")\n",
    "output2 = widgets.Output()\n",
    "\n",
    "buttons = widgets.HBox([button, output, button2, output2])\n",
    "display(buttons)\n",
    "\n",
    "@output.capture()\n",
    "def on_button_clicked(b):\n",
    "    global Sim, sim_pars\n",
    "    Sim = flw.VRSsim(morph=M)\n",
    "\n",
    "@output2.capture()\n",
    "def on_button_clicked2(b):\n",
    "    global Sim,sim_pars\n",
    "    Sim.run(XEinit=sim_pars.XEinit,Tmax=sim_pars.Tmax,cil_speed=sim_pars.cil_speed,U_const_fixed=sim_pars.U_const_fixed,S_fixed=sim_pars.S_fixed)\n",
    "\n",
    "button.on_click(on_button_clicked)\n",
    "button2.on_click(on_button_clicked2)"
   ]
  },
  {
   "cell_type": "code",
   "execution_count": null,
   "id": "6c0e4a8c-683d-4dfa-80ee-c22e0fba00cc",
   "metadata": {},
   "outputs": [],
   "source": []
  }
 ],
 "metadata": {
  "kernelspec": {
   "display_name": "Python 3 (ipykernel)",
   "language": "python",
   "name": "python3"
  },
  "language_info": {
   "codemirror_mode": {
    "name": "ipython",
    "version": 3
   },
   "file_extension": ".py",
   "mimetype": "text/x-python",
   "name": "python",
   "nbconvert_exporter": "python",
   "pygments_lexer": "ipython3",
   "version": "3.10.6"
  }
 },
 "nbformat": 4,
 "nbformat_minor": 5
}
