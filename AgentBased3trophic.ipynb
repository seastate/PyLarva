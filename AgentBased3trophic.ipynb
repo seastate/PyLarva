{
 "cells": [
  {
   "cell_type": "markdown",
   "id": "0513ea60-94d5-4260-a721-6d7b7845fa10",
   "metadata": {},
   "source": [
    "# Model: The Wolf-Sheep-Grass Example from MESA"
   ]
  },
  {
   "cell_type": "code",
   "execution_count": 1,
   "id": "c4043239-586d-4379-ab9b-63122e40092c",
   "metadata": {
    "tags": []
   },
   "outputs": [
    {
     "name": "stdout",
     "output_type": "stream",
     "text": [
      "Using matplotlib backend: <object object at 0x7f7e2d4c7160>\n"
     ]
    }
   ],
   "source": [
    "%matplotlib\n",
    "import matplotlib.pyplot as plt\n",
    "import mesa\n",
    "import numpy as np\n",
    "from time import sleep\n",
    "import ipywidgets as widgets\n",
    "\n",
    "from AgentBased3trophic.agents import Wolf, Sheep, GrassPatch\n",
    "from AgentBased3trophic.model import WolfSheep"
   ]
  },
  {
   "cell_type": "code",
   "execution_count": 2,
   "id": "b6a2f037-6592-4088-aae0-dd72d4a1d532",
   "metadata": {
    "tags": []
   },
   "outputs": [
    {
     "data": {
      "application/vnd.jupyter.widget-view+json": {
       "model_id": "76d7c5a9b59c4f078cc0c3020960d71b",
       "version_major": 2,
       "version_minor": 0
      },
      "text/plain": [
       "HBox(children=(Button(description='Reset', style=ButtonStyle()), Output(), Button(description='Run', style=But…"
      ]
     },
     "metadata": {},
     "output_type": "display_data"
    }
   ],
   "source": [
    "model = WolfSheep(width=151,\n",
    "        height=151,\n",
    "        initial_sheep=250,\n",
    "        initial_wolves=250,\n",
    "        sheep_reproduce=0.04,\n",
    "        wolf_reproduce=0.06,\n",
    "        wolf_gain_from_food=34,\n",
    "        grass=True,\n",
    "        grass_regrowth_time=37,\n",
    "        sheep_gain_from_food=8)\n",
    "\n",
    "global Sim\n",
    "button = widgets.Button(description=\"Reset\")\n",
    "output = widgets.Output()\n",
    "button2 = widgets.Button(description=\"Run\")\n",
    "output2 = widgets.Output()\n",
    "\n",
    "buttons = widgets.HBox([button, output, button2, output2])\n",
    "display(buttons)\n",
    "\n",
    "@output.capture()\n",
    "def on_button_clicked(b):\n",
    "    global Sim, sim_pars\n",
    "    Sim = flw.VRSsim(morph=M)\n",
    "\n",
    "@output2.capture()\n",
    "def on_button_clicked2(b):\n",
    "    global Sim,sim_pars\n",
    "    Sim.run(XEinit=sim_pars.XEinit,Tmax=sim_pars.Tmax,cil_speed=sim_pars.cil_speed,U_const_fixed=sim_pars.U_const_fixed,S_fixed=sim_pars.S_fixed)\n",
    "\n",
    "button.on_click(on_button_clicked)\n",
    "button2.on_click(on_button_clicked2)"
   ]
  },
  {
   "cell_type": "code",
   "execution_count": 3,
   "id": "10e4be2c-b665-4981-81f3-833d61870a50",
   "metadata": {
    "tags": []
   },
   "outputs": [
    {
     "name": "stderr",
     "output_type": "stream",
     "text": [
      "libGL error: MESA-LOADER: failed to open iris: /usr/lib/dri/iris_dri.so: cannot open shared object file: No such file or directory (search paths /usr/lib/x86_64-linux-gnu/dri:\\$${ORIGIN}/dri:/usr/lib/dri, suffix _dri)\n",
      "libGL error: failed to load driver: iris\n",
      "libGL error: MESA-LOADER: failed to open iris: /usr/lib/dri/iris_dri.so: cannot open shared object file: No such file or directory (search paths /usr/lib/x86_64-linux-gnu/dri:\\$${ORIGIN}/dri:/usr/lib/dri, suffix _dri)\n",
      "libGL error: failed to load driver: iris\n",
      "libGL error: MESA-LOADER: failed to open swrast: /usr/lib/dri/swrast_dri.so: cannot open shared object file: No such file or directory (search paths /usr/lib/x86_64-linux-gnu/dri:\\$${ORIGIN}/dri:/usr/lib/dri, suffix _dri)\n",
      "libGL error: failed to load driver: swrast\n"
     ]
    }
   ],
   "source": [
    "for i in range(10):\n",
    "    \n",
    "    model.run_model(step_count=100)\n",
    "    \n",
    "    #plt.clf()\n",
    "    ax1 = plt.subplot(1,3,1)\n",
    "    ax2= plt.subplot(1,3,2)\n",
    "    ax3= plt.subplot(1,3,3)\n",
    "    \n",
    "    sheep_counts = np.zeros((model.grid.width, model.grid.height))\n",
    "    wolf_counts = np.zeros((model.grid.width, model.grid.height))\n",
    "    grass_counts = np.zeros((model.grid.width, model.grid.height))\n",
    "    for cell in model.grid.coord_iter():\n",
    "        cell_content, (x, y) = cell\n",
    "        sheep = [obj for obj in cell_content if isinstance(obj, Sheep)]\n",
    "        sheep_count = len(sheep)\n",
    "        sheep_counts[x][y] = sheep_count\n",
    "        wolf = [obj for obj in cell_content if isinstance(obj, Wolf)]\n",
    "        wolf_count = len(wolf)\n",
    "        wolf_counts[x][y] = wolf_count\n",
    "        grass_patch = [obj for obj in cell_content if isinstance(obj, GrassPatch)][0]\n",
    "        if grass_patch.fully_grown:\n",
    "            grass_count = 1\n",
    "            grass_counts[x][y] = grass_count\n",
    "    \n",
    "    #plt.clf()\n",
    "    im1 = ax1.imshow(sheep_counts, interpolation=\"nearest\")\n",
    "    ax1.set_title('Sheep')\n",
    "    #plt.colorbar(im1)\n",
    "    im2 = ax2.imshow(wolf_counts, interpolation=\"nearest\")\n",
    "    ax2.set_title('Wolves')\n",
    "    #plt.colorbar(im2)\n",
    "    im3 = ax3.imshow(grass_counts, interpolation=\"nearest\")\n",
    "    ax3.set_title('Grass')\n",
    "    #plt.colorbar(im2)\n",
    "    \n",
    "    plt.draw()\n",
    "    plt.pause(1e-3)"
   ]
  },
  {
   "cell_type": "code",
   "execution_count": null,
   "id": "418e6500-c927-434e-a5b2-2769585a19ef",
   "metadata": {},
   "outputs": [],
   "source": []
  }
 ],
 "metadata": {
  "kernelspec": {
   "display_name": "Python 3 (ipykernel)",
   "language": "python",
   "name": "python3"
  },
  "language_info": {
   "codemirror_mode": {
    "name": "ipython",
    "version": 3
   },
   "file_extension": ".py",
   "mimetype": "text/x-python",
   "name": "python",
   "nbconvert_exporter": "python",
   "pygments_lexer": "ipython3",
   "version": "3.11.3"
  }
 },
 "nbformat": 4,
 "nbformat_minor": 5
}
