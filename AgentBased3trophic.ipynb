{
 "cells": [
  {
   "cell_type": "code",
   "execution_count": 1,
   "id": "c4043239-586d-4379-ab9b-63122e40092c",
   "metadata": {
    "tags": []
   },
   "outputs": [
    {
     "name": "stdout",
     "output_type": "stream",
     "text": [
      "Using matplotlib backend: <object object at 0x7f4e8cc6a920>\n"
     ]
    }
   ],
   "source": [
    "%matplotlib\n",
    "import matplotlib.pyplot as plt\n",
    "import mesa\n",
    "import numpy as np\n",
    "from time import sleep\n",
    "\n",
    "from AgentBased3trophic.agents import Wolf, Sheep, GrassPatch\n",
    "from AgentBased3trophic.model import WolfSheep"
   ]
  },
  {
   "cell_type": "code",
   "execution_count": 2,
   "id": "886170ac-991f-4b48-9bdf-954aa11c43b4",
   "metadata": {
    "tags": []
   },
   "outputs": [],
   "source": [
    "model = WolfSheep(width=151,\n",
    "        height=151,\n",
    "        initial_sheep=250,\n",
    "        initial_wolves=250,\n",
    "        sheep_reproduce=0.04,\n",
    "        wolf_reproduce=0.06,\n",
    "        wolf_gain_from_food=34,\n",
    "        grass=True,\n",
    "        grass_regrowth_time=37,\n",
    "        sheep_gain_from_food=8)\n",
    "\n",
    "\n",
    "for i in range(10):\n",
    "    \n",
    "    model.run_model(step_count=100)\n",
    "    \n",
    "    #plt.clf()\n",
    "    ax1 = plt.subplot(1,3,1)\n",
    "    ax2= plt.subplot(1,3,2)\n",
    "    ax3= plt.subplot(1,3,3)\n",
    "    \n",
    "    sheep_counts = np.zeros((model.grid.width, model.grid.height))\n",
    "    wolf_counts = np.zeros((model.grid.width, model.grid.height))\n",
    "    grass_counts = np.zeros((model.grid.width, model.grid.height))\n",
    "    for cell in model.grid.coord_iter():\n",
    "        cell_content, x, y = cell\n",
    "        sheep = [obj for obj in cell_content if isinstance(obj, Sheep)]\n",
    "        sheep_count = len(sheep)\n",
    "        sheep_counts[x][y] = sheep_count\n",
    "        wolf = [obj for obj in cell_content if isinstance(obj, Wolf)]\n",
    "        wolf_count = len(wolf)\n",
    "        wolf_counts[x][y] = wolf_count\n",
    "        grass_patch = [obj for obj in cell_content if isinstance(obj, GrassPatch)][0]\n",
    "        if grass_patch.fully_grown:\n",
    "            grass_count = 1\n",
    "            grass_counts[x][y] = grass_count\n",
    "    \n",
    "    #plt.clf()\n",
    "    im1 = ax1.imshow(sheep_counts, interpolation=\"nearest\")\n",
    "    ax1.set_title('Sheep')\n",
    "    #plt.colorbar(im1)\n",
    "    im2 = ax2.imshow(wolf_counts, interpolation=\"nearest\")\n",
    "    ax2.set_title('Wolves')\n",
    "    #plt.colorbar(im2)\n",
    "    im3 = ax3.imshow(grass_counts, interpolation=\"nearest\")\n",
    "    ax3.set_title('Grass')\n",
    "    #plt.colorbar(im2)\n",
    "    \n",
    "    plt.draw()\n",
    "    plt.pause(1e-3)\n"
   ]
  },
  {
   "cell_type": "code",
   "execution_count": null,
   "id": "418e6500-c927-434e-a5b2-2769585a19ef",
   "metadata": {},
   "outputs": [],
   "source": []
  }
 ],
 "metadata": {
  "kernelspec": {
   "display_name": "Python 3 (ipykernel)",
   "language": "python",
   "name": "python3"
  },
  "language_info": {
   "codemirror_mode": {
    "name": "ipython",
    "version": 3
   },
   "file_extension": ".py",
   "mimetype": "text/x-python",
   "name": "python",
   "nbconvert_exporter": "python",
   "pygments_lexer": "ipython3",
   "version": "3.10.10"
  }
 },
 "nbformat": 4,
 "nbformat_minor": 5
}
